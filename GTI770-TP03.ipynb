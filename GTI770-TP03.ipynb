{
 "cells": [
  {
   "cell_type": "markdown",
   "metadata": {},
   "source": [
    "# Laboratoire 3 : Machines à vecteurs de support et réseaux neuronaux\n",
    "#### Département du génie logiciel et des technologies de l’information\n",
    "\n",
    "| Étudiants             |                                                         |\n",
    "|-----------------------|---------------------------------------------------------|\n",
    "| Jean-Philippe Decoste |  DECJ19059105                                           |\n",
    "| Ahmad Al-Taher        |   ALTA22109307                                          |\n",
    "| Stéphanie Lacerte     |   LACS06629109                                          |\n",
    "| Cours                 | GTI770 - Systèmes intelligents et apprentissage machine |\n",
    "| Session               | Automne 2018                                            |\n",
    "| Groupe                | 2                                                       |\n",
    "| Numéro du laboratoire | 02                                                      |\n",
    "| Professeur            | Hervé Lombaert                                          |\n",
    "| Chargé de laboratoire | Pierre-Luc Delisle                                      |\n",
    "| Date                  | 30 oct 2018                                             |"
   ]
  },
  {
   "cell_type": "code",
   "execution_count": 7,
   "metadata": {},
   "outputs": [],
   "source": [
    "import csv\n",
    "import math\n",
    "import os\n",
    "\n",
    "import numpy as np\n",
    "from sklearn.model_selection import GridSearchCV\n",
    "from sklearn.svm import SVC\n",
    "import tensorflow as tf\n",
    "from tensorflow import keras\n",
    "from tabulate import tabulate\n",
    "import matplotlib.pyplot as plt\n",
    "\n",
    "from helpers import utilities as Utils\n",
    "from helpers import datasets as Data"
   ]
  },
  {
   "cell_type": "markdown",
   "metadata": {},
   "source": [
    "## Paramètres"
   ]
  },
  {
   "cell_type": "code",
   "execution_count": null,
   "metadata": {},
   "outputs": [],
   "source": [
    "#MERGED_GALAXY_PRIMITIVE = r\"data\\csv\\eq07_pMerged.csv\"\n",
    "ALL_GALAXY_PRIMITIVE = r\"data\\csv\\galaxy\\galaxy_feature_vectors.csv\"\n",
    "MERGED_GALAXY_PRIMITIVE = r\".\\galaxies.csv\"\n",
    "\n",
    "# Neural Network\n",
    "LAYERS_ACTIVATION = 'relu'\n",
    "LAST_LAYER_ACTIVATION = 'sigmoid'\n",
    "TENSORBOARD_SUMMARY = r\"tensorboard\""
   ]
  },
  {
   "cell_type": "markdown",
   "metadata": {},
   "source": [
    "## SVM"
   ]
  },
  {
   "cell_type": "code",
   "execution_count": 16,
   "metadata": {},
   "outputs": [],
   "source": [
    "def svm():    \n",
    "    #linear    \n",
    "    print(\"SVM linear\")\n",
    "    c=[0.001,0.1,1.0,10.0]\n",
    "    params = dict(kernel=['linear'], C=c ,class_weight=['balanced'], cache_size=[2048])\n",
    "    grid = GridSearchCV(SVC(), param_grid=params, cv=dataset_splitter, n_jobs=-1, iid=True)\n",
    "    \n",
    "    #Fit the feature to svm algo\n",
    "    grid.fit(features_SVM, answers)\n",
    "    \n",
    "    #build table\n",
    "    outPut = []\n",
    "    y1 = []\n",
    "    for i in range(0, 4):\n",
    "        outPut.append([grid.cv_results_['params'][i]['C'],\n",
    "                          \"{0:.2f}%\".format(grid.cv_results_['mean_test_score'][i]*100)])\n",
    "        y1.append(grid.cv_results_['mean_test_score'][i]*100)\n",
    "    \n",
    "    #print table\n",
    "    print(tabulate(outPut, headers=['Variable C','class_weight= {‘balanced’}']))\n",
    "    print(\"The best parameters are \", grid.best_params_,\" with a score of {0:.2f}%\".format(float(grid.best_score_)* 100))\n",
    "    \n",
    "    #rbf\n",
    "    print(\"\\nSVM rbf\")\n",
    "    params = dict(kernel=['rbf'], C=c, gamma=c ,class_weight=['balanced'], cache_size=[2048])\n",
    "    grid = GridSearchCV(SVC(), param_grid=params, cv=dataset_splitter, n_jobs=-1, iid=True)\n",
    "    \n",
    "    #Fit the feature to svm algo\n",
    "    grid.fit(features_SVM, answers)\n",
    "    \n",
    "    #build table\n",
    "    outPut = []\n",
    "    outPut.append(['0.001',\n",
    "                   \"{0:.2f}%\".format(grid.cv_results_['mean_test_score'][0]*100),\n",
    "                   \"{0:.2f}%\".format(grid.cv_results_['mean_test_score'][1]*100),\n",
    "                   \"{0:.2f}%\".format(grid.cv_results_['mean_test_score'][2]*100),\n",
    "                   \"{0:.2f}%\".format(grid.cv_results_['mean_test_score'][3]*100)])\n",
    "    outPut.append(['0.1',\n",
    "                   \"{0:.2f}%\".format(grid.cv_results_['mean_test_score'][4]*100),\n",
    "                   \"{0:.2f}%\".format(grid.cv_results_['mean_test_score'][5]*100),\n",
    "                   \"{0:.2f}%\".format(grid.cv_results_['mean_test_score'][6]*100),\n",
    "                   \"{0:.2f}%\".format(grid.cv_results_['mean_test_score'][7]*100)])\n",
    "    outPut.append(['1.0',\n",
    "                   \"{0:.2f}%\".format(grid.cv_results_['mean_test_score'][8]*100),\n",
    "                   \"{0:.2f}%\".format(grid.cv_results_['mean_test_score'][9]*100),\n",
    "                   \"{0:.2f}%\".format(grid.cv_results_['mean_test_score'][10]*100),\n",
    "                   \"{0:.2f}%\".format(grid.cv_results_['mean_test_score'][11]*100)])\n",
    "    outPut.append(['10.0',\n",
    "                   \"{0:.2f}%\".format(grid.cv_results_['mean_test_score'][12]*100),\n",
    "                   \"{0:.2f}%\".format(grid.cv_results_['mean_test_score'][13]*100),\n",
    "                   \"{0:.2f}%\".format(grid.cv_results_['mean_test_score'][14]*100),\n",
    "                   \"{0:.2f}%\".format(grid.cv_results_['mean_test_score'][15]*100)])\n",
    "    y2=[grid.cv_results_['mean_test_score'][0]*100,grid.cv_results_['mean_test_score'][1]*100,grid.cv_results_['mean_test_score'][2]*100,grid.cv_results_['mean_test_score'][3]*100]\n",
    "    y3=[grid.cv_results_['mean_test_score'][4]*100,grid.cv_results_['mean_test_score'][5]*100,grid.cv_results_['mean_test_score'][6]*100,grid.cv_results_['mean_test_score'][7]*100]\n",
    "    y4=[grid.cv_results_['mean_test_score'][8]*100,grid.cv_results_['mean_test_score'][9]*100,grid.cv_results_['mean_test_score'][10]*100,grid.cv_results_['mean_test_score'][11]*100]\n",
    "    y5=[grid.cv_results_['mean_test_score'][12]*100,grid.cv_results_['mean_test_score'][13]*100,grid.cv_results_['mean_test_score'][14]*100,grid.cv_results_['mean_test_score'][15]*100]\n",
    "    #print table\n",
    "    print(tabulate(outPut, headers=['Variable C','Ɣ=0.001','Ɣ=0.1','Ɣ=1.0','Ɣ=10.0']))\n",
    "    print(\"The best parameters are \", grid.best_params_,\" with a score of {0:.2f}%\".format(float(grid.best_score_)* 100))\n",
    "    \n",
    "    print(\"-> Done\\n\\n\")\n",
    "    \n",
    "    plt.grid(True) \n",
    "    plt.xlabel('Variable C')\n",
    "    plt.ylabel('Accuracy')\n",
    "    \n",
    "    plt.plot(c, y1,label='Linear')\n",
    "    plt.plot(c, y2,label='Gamma=0.001')\n",
    "    plt.plot(c, y3,label='Gamma=0.1')\n",
    "    plt.plot(c, y4,label='Gamma=1')\n",
    "    plt.plot(c, y5,label='Gamma=10')\n",
    "    plt.legend()\n",
    "    plt.ylim(45, 85)\n",
    "    plt.show()"
   ]
  },
  {
   "cell_type": "markdown",
   "metadata": {},
   "source": [
    "## Réseaux neuronaux"
   ]
  },
  {
   "cell_type": "code",
   "execution_count": null,
   "metadata": {},
   "outputs": [],
   "source": [
    "def neuralNetwork(runId, networkFrame, epoch, learning_rate):\n",
    "    # Format arrays to np arrays\n",
    "    features_train = []\n",
    "    answers_train = []\n",
    "    features_test = []\n",
    "    answers_test = []\n",
    "\n",
    "    for train_index, test_index in dataset_splitter.split(features, answers):\n",
    "        for elem in train_index:\n",
    "            features_train.append(features[elem])\n",
    "            answers_train.append(answers[elem])\n",
    "\n",
    "        for elem in test_index:\n",
    "            features_test.append(features[elem])\n",
    "            answers_test.append(answers[elem])\n",
    "\n",
    "    print(\"1.Initializing Neural Network for run #\" + str(runId))\n",
    "\n",
    "    # Create a default in-process session.\n",
    "    directory = TENSORBOARD_SUMMARY + \"/run\" + str(runId)\n",
    "    if not os.path.exists(directory):\n",
    "        os.makedirs(directory)\n",
    "    print(\"TensorBoard summary writer at :\" + directory + \"\\n\")\n",
    "    tbCallBack = keras.callbacks.TensorBoard(log_dir=directory, histogram_freq=1, write_graph=False, write_images=False)\n",
    "    \n",
    "    # Parameters\n",
    "    dimension = len(features[0])\n",
    "    layers = networkFrame\n",
    "    epoch = epoch\n",
    "    batch_size = 200\n",
    "    learning_rate = learning_rate\n",
    "    \n",
    "    # The network type\n",
    "    neuralNetwork_model = keras.Sequential()\n",
    "    counter = 1\n",
    "\n",
    "    # Set layer in model\n",
    "    # First layer is set according to data dimension\n",
    "    neuralNetwork_model.add(keras.layers.Dense(dimension, input_dim=dimension, kernel_initializer='random_normal', bias_initializer='zeros', activation=LAYERS_ACTIVATION))\n",
    "    neuralNetwork_model.add(keras.layers.Dropout(0.5))\n",
    "    # Other layer set using layers array\n",
    "    for perceptron in layers:\n",
    "        if len(layers) == counter:\n",
    "            # Last layer (2 neurons for 2 possible class, SIGMOID ensure result between 1 and 0)\n",
    "            neuralNetwork_model.add(keras.layers.Dense(1, kernel_initializer='random_normal', bias_initializer='zeros', activation=LAST_LAYER_ACTIVATION))\n",
    "            #print(\"Layer #\" + str(counter) + \": dimension = \" + str(2) + \", activation = \" + LAST_LAYER_ACTIVATION)\n",
    "        else:\n",
    "            # Adds Layer\n",
    "            neuralNetwork_model.add(keras.layers.Dense(perceptron, kernel_initializer='random_normal', bias_initializer='zeros', activation=LAYERS_ACTIVATION))\n",
    "            neuralNetwork_model.add(keras.layers.Dropout(0.5))\n",
    "            #print(\"Layer #\" + str(counter) + \": dimension = \" + str(perceptron) + \", activation = \" + LAYERS_ACTIVATION)\n",
    "        counter = counter + 1\n",
    "\n",
    "    # Compile the network according to previous settings\n",
    "    neuralNetwork_model.compile(optimizer=tf.train.AdamOptimizer(learning_rate), \n",
    "                                loss='binary_crossentropy', \n",
    "                                metrics=['accuracy'])\n",
    "\n",
    "    # Print visualisation of network (layer and perceptron)\n",
    "    neuralNetwork_model.summary()\n",
    "\n",
    "    # Fit model to data\n",
    "    print(\"\\n2.Training\\n\")\n",
    "    neuralNetwork_model.fit(np.array(features_train), np.array(answers_train), \n",
    "                            epochs=epoch, \n",
    "                            batch_size=batch_size, \n",
    "                            validation_data=(np.array(features_test), np.array(answers_test)),\n",
    "                            callbacks=[tbCallBack], \n",
    "                            verbose=2)\n",
    "\n",
    "    # Evaluation\n",
    "    #scores = neuralNetwork_model.evaluate(np.array(features_train), np.array(answers_train), verbose=1)\n",
    "    #print(\"\\n%s: %.2f%%\" % (neuralNetwork_model.metrics_names[1], scores[1]*100))\n",
    "\n",
    "    # Clear previous model\n",
    "    keras.backend.clear_session()"
   ]
  },
  {
   "cell_type": "markdown",
   "metadata": {},
   "source": [
    "## Main"
   ]
  },
  {
   "cell_type": "code",
   "execution_count": 17,
   "metadata": {},
   "outputs": [
    {
     "name": "stdout",
     "output_type": "stream",
     "text": [
      "PREPARING DATASETS\n",
      "Reading Galaxy features:\n",
      "Progress |**************************************************| 100.0% Complete\n",
      "-> Done\n",
      "\n",
      "Splitting Dataset according to these params:\n",
      "Property        Value\n",
      "------------  -------\n",
      "n_splits          5\n",
      "test_size         0.2\n",
      "random_state      0\n",
      "-> Done\n",
      "\n",
      "\n",
      "ALGORITHMS\n",
      "\n",
      "SVM:\n",
      "SVM linear\n",
      "  Variable C  class_weight= {‘balanced’}\n",
      "------------  ----------------------------\n",
      "       0.001  51.89%\n",
      "       0.1    77.97%\n",
      "       1      81.28%\n",
      "      10      81.43%\n",
      "The best parameters are  {'C': 10.0, 'cache_size': 2048, 'class_weight': 'balanced', 'kernel': 'linear'}  with a score of 81.43%\n",
      "\n",
      "SVM rbf\n",
      "  Variable C  Ɣ=0.001    Ɣ=0.1    Ɣ=1.0    Ɣ=10.0\n",
      "------------  ---------  -------  -------  --------\n",
      "       0.001  51.89%     51.89%   51.89%   72.26%\n",
      "       0.1    48.11%     69.83%   81.37%   84.39%\n",
      "       1      48.46%     79.79%   83.81%   84.91%\n",
      "      10      69.69%     82.45%   84.46%   85.10%\n",
      "The best parameters are  {'C': 10.0, 'cache_size': 2048, 'class_weight': 'balanced', 'gamma': 10.0, 'kernel': 'rbf'}  with a score of 85.10%\n",
      "-> Done\n",
      "\n",
      "\n"
     ]
    },
    {
     "data": {
      "image/png": "[encoded data removed]",
      "text/plain": [
       "<Figure size 432x288 with 1 Axes>"
      ]
     },
     "metadata": {
      "needs_background": "light"
     },
     "output_type": "display_data"
    },
    {
     "name": "stdout",
     "output_type": "stream",
     "text": [
      "\n",
      "Neural Network:\n",
      "TensorFlow version:1.12.0, Keras version:2.1.6-tf\n",
      "\n"
     ]
    }
   ],
   "source": [
    "#1.A Read Galaxy features (name of file, path, n_split, test size, random state)\n",
    "if os.path.isfile(MERGED_GALAXY_PRIMITIVE):\n",
    "    features, features_SVM, answers, dataset_splitter = Data.prepareDataset(\"Galaxy\", MERGED_GALAXY_PRIMITIVE, 5, 0.2, 0)\n",
    "else:\n",
    "    features, features_SVM, answers, dataset_splitter = Data.prepareDataset(\"Galaxy\", ALL_GALAXY_PRIMITIVE, 5, 0.2, 0)\n",
    "\n",
    "    \n",
    "#2. Algorithms\n",
    "print(\"ALGORITHMS\")\n",
    "print(\"\\nSVM:\")\n",
    "svm()\n",
    "\n",
    "print(\"\\nNeural Network:\")\n",
    "print(\"TensorFlow version:\" + tf.VERSION + \", Keras version:\" + tf.keras.__version__ + \"\\n\")\n",
    "# Diff number of layer\n",
    "neuralNetwork(1, [100, 100, 2], 60, 0.0005)\n",
    "neuralNetwork(2, [100, 2], 60, 0.0005)\n",
    "neuralNetwork(3, [100, 100, 100, 100, 2], 60, 0.0005)\n",
    "# Diff perceptron\n",
    "neuralNetwork(4, [80, 50, 2], 60, 0.0005)\n",
    "neuralNetwork(5, [120, 2], 60, 0.0005)\n",
    "neuralNetwork(6, [100, 120, 100, 50, 2], 60, 0.0005)\n",
    "# Diff epoch\n",
    "neuralNetwork(7, [100, 100, 2], 60, 0.0005)\n",
    "neuralNetwork(8, [100, 2], 20, 0.0005)\n",
    "neuralNetwork(9, [100, 100, 100, 100, 2], 100, 0.0005)\n",
    "# Diff learning\n",
    "neuralNetwork(10, [100, 100, 2], 60, 0.0005)\n",
    "neuralNetwork(11, [100, 2], 60, 0.005)\n",
    "neuralNetwork(12, [100, 100, 100, 100, 2], 60, 0.05)"
   ]
  },
  {
   "cell_type": "markdown",
   "metadata": {},
   "source": [
    "REMOVE NEXT CELL IN FINAL VERSION"
   ]
  },
  {
   "cell_type": "code",
   "execution_count": null,
   "metadata": {},
   "outputs": [],
   "source": [
    "ALGORITHMS\n",
    "\n",
    "SVM:\n",
    "SVM linear\n",
    "  Variable C  class_weight= {‘balanced’}\n",
    "------------  ----------------------------\n",
    "       0.001  51.89%\n",
    "       0.1    77.97%\n",
    "       1      81.28%\n",
    "      10      81.43%\n",
    "The best parameters are  {'C': 10.0, 'cache_size': 2048, 'class_weight': 'balanced', 'kernel': 'linear'}  with a score of 81.43%\n",
    "\n",
    "SVM rbf\n",
    "  Variable C  Ɣ=0.001    Ɣ=0.1    Ɣ=1.0    Ɣ=10.0\n",
    "------------  ---------  -------  -------  --------\n",
    "       0.001  51.89%     51.89%   51.89%   72.26%\n",
    "       0.1    48.11%     69.83%   81.37%   84.39%\n",
    "       1      48.46%     79.79%   83.81%   84.91%\n",
    "      10      69.69%     82.45%   84.46%   85.10%\n",
    "The best parameters are  {'C': 10.0, 'cache_size': 2048, 'class_weight': 'balanced', 'gamma': 10.0, 'kernel': 'rbf'}  with a score of 85.10%\n",
    "-> Done\n"
   ]
  },
  {
   "cell_type": "markdown",
   "metadata": {},
   "source": [
    "## Introduction\n",
    "\n"
   ]
  },
  {
   "cell_type": "markdown",
   "metadata": {},
   "source": [
    "## Question 1 \n",
    "### Présentation de la méthode de validation"
   ]
  },
  {
   "cell_type": "markdown",
   "metadata": {},
   "source": [
    "## Question 2\n",
    "### Présentation de la méthode de normalisation"
   ]
  },
  {
   "cell_type": "markdown",
   "metadata": {},
   "source": [
    "## Question 3\n",
    "### Description du réseau de neuronnes"
   ]
  },
  {
   "cell_type": "markdown",
   "metadata": {},
   "source": [
    "## Question 4\n",
    "### Analyse du réseau de neuronnes grace aux graphiques TensorBoard"
   ]
  },
  {
   "cell_type": "markdown",
   "metadata": {},
   "source": [
    "## Question 5\n",
    "### Score F1 et impact des hyperparamètres sur le réseau de neuronnes"
   ]
  },
  {
   "cell_type": "markdown",
   "metadata": {},
   "source": [
    "## Question 6\n",
    "### Méthode d'optimisation du modèle SVM"
   ]
  },
  {
   "cell_type": "markdown",
   "metadata": {},
   "source": [
    "## Question 7\n",
    "### Impact de la taille de l'ensemble d'apprentissage"
   ]
  },
  {
   "cell_type": "markdown",
   "metadata": {},
   "source": [
    "## Question 8\n",
    "### Formulation des recommandations"
   ]
  },
  {
   "cell_type": "markdown",
   "metadata": {},
   "source": [
    "## Question 9\n",
    "### Améliorations possibles"
   ]
  },
  {
   "cell_type": "markdown",
   "metadata": {},
   "source": [
    "## Conclusion"
   ]
  }
 ],
 "metadata": {
  "kernelspec": {
   "display_name": "Python 3",
   "language": "python",
   "name": "python3"
  }
 },
 "nbformat": 4,
 "nbformat_minor": 2
}
