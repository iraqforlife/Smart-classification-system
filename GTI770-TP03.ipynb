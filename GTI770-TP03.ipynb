{
 "cells": [
  {
   "cell_type": "markdown",
   "metadata": {},
   "source": [
    "# Laboratoire 3 : Machines à vecteurs de support et réseaux neuronaux\n",
    "#### Département du génie logiciel et des technologies de l’information\n",
    "\n",
    "| Étudiants             |                                                         |\n",
    "|-----------------------|---------------------------------------------------------|\n",
    "| Jean-Philippe Decoste |  DECJ19059105                                           |\n",
    "| Ahmad Al-Taher        |   ALTA22109307                                          |\n",
    "| Stéphanie Lacerte     |   LACS06629109                                          |\n",
    "| Cours                 | GTI770 - Systèmes intelligents et apprentissage machine |\n",
    "| Session               | Automne 2018                                            |\n",
    "| Groupe                | 2                                                       |\n",
    "| Numéro du laboratoire | 02                                                      |\n",
    "| Professeur            | Hervé Lombaert                                          |\n",
    "| Chargé de laboratoire | Pierre-Luc Delisle                                      |\n",
    "| Date                  | 30 oct 2018                                             |"
   ]
  },
  {
   "cell_type": "code",
   "execution_count": 12,
   "metadata": {},
   "outputs": [],
   "source": [
    "import csv\n",
    "import math\n",
    "import os\n",
    "\n",
    "import graphviz\n",
    "import matplotlib.pyplot as plt\n",
    "import numpy as np\n",
    "from imageV3 import Image as imageFeat\n",
    "from sklearn.metrics import classification_report\n",
    "from sklearn.model_selection import GridSearchCV, StratifiedShuffleSplit\n",
    "from sklearn.svm import SVC\n",
    "\n",
    "from spam import Spam\n",
    "import utilities\n",
    "from tabulate import tabulate"
   ]
  },
  {
   "cell_type": "code",
   "execution_count": 13,
   "metadata": {},
   "outputs": [],
   "source": [
    "def prepareDataset():\n",
    "    print(\"PREPARING DATASETS\")\n",
    "    allData_length = len(list(csv.reader(open(r\"galaxies.csv\"))))\n",
    "    progress = 0\n",
    "    datas = []\n",
    "\n",
    "    print(\"Reading Galaxies features:\")\n",
    "    utilities.printProgressBar(0, allData_length, prefix='Progress:', suffix='Complete', length=50)\n",
    "    with open(r\"galaxies.csv\", 'r') as theFile:\n",
    "        primitives = csv.reader(theFile, delimiter=',', quotechar='|')\n",
    "\n",
    "        for row in primitives:\n",
    "            progress += 1\n",
    "            utilities.printProgressBar(progress+1, allData_length, prefix='Progress', suffix='Complete', length=50)\n",
    "\n",
    "            values = [float(i) for i in row]\n",
    "            datas.append(imageFeat(values))\n",
    "            \n",
    "    print(\"\\n-> Done preparing the dataset\\n\")\n",
    "\n",
    "    #3. Split dataset using model_selection\n",
    "    for data in np.array(datas):\n",
    "        features.append(data.features)\n",
    "        answers.append(data.answer)"
   ]
  },
  {
   "cell_type": "markdown",
   "metadata": {},
   "source": [
    "## SVM"
   ]
  },
  {
   "cell_type": "code",
   "execution_count": 84,
   "metadata": {},
   "outputs": [],
   "source": [
    "def svm():\n",
    "    \n",
    "    validation = StratifiedShuffleSplit(n_splits=5, test_size=0.2)\n",
    "    #linear\n",
    "    c=[0.001,0.1,1.0,10.0]\n",
    "    params = dict(kernel=['linear'], C=c ,class_weight=['balanced'], cache_size=[2048])\n",
    "    grid = GridSearchCV(SVC(), param_grid=params, cv=validation, n_jobs=-1, iid=True)\n",
    "    #Fit the feature to svm algo\n",
    "    grid.fit(features, answers)\n",
    "    #build table\n",
    "    outPut = []\n",
    "    for i in range(0, 4):\n",
    "        outPut.append([grid.cv_results_['params'][i]['C'],\n",
    "                          \"{0:.2f}%\".format(grid.cv_results_['mean_test_score'][i]*100)])\n",
    "    #print table\n",
    "    print(\"SVM linear\")\n",
    "    print(tabulate(outPut, headers=['Variable C','class_weight= {‘balanced’}']))\n",
    "    #print raw \n",
    "    print(\"The best parameters are \", grid.best_params_,\" with a score of {0:.2f}%\".format(float(grid.best_score_)* 100))\n",
    "    #rbf\n",
    "    params = dict(kernel=['rbf'], C=c, gamma=c ,class_weight=['balanced'], cache_size=[2048])\n",
    "    grid = GridSearchCV(SVC(), param_grid=params, cv=validation, n_jobs=-1, iid=True)\n",
    "    #Fit the feature to svm algo\n",
    "    grid.fit(features, answers)\n",
    "    #build table\n",
    "    outPut = []\n",
    "    outPut.append(['0.001',\n",
    "                   \"{0:.2f}%\".format(grid.cv_results_['mean_test_score'][0]*100),\n",
    "                   \"{0:.2f}%\".format(grid.cv_results_['mean_test_score'][1]*100),\n",
    "                   \"{0:.2f}%\".format(grid.cv_results_['mean_test_score'][2]*100),\n",
    "                   \"{0:.2f}%\".format(grid.cv_results_['mean_test_score'][3]*100)])\n",
    "    outPut.append(['0.1',\n",
    "                   \"{0:.2f}%\".format(grid.cv_results_['mean_test_score'][4]*100),\n",
    "                   \"{0:.2f}%\".format(grid.cv_results_['mean_test_score'][5]*100),\n",
    "                   \"{0:.2f}%\".format(grid.cv_results_['mean_test_score'][6]*100),\n",
    "                   \"{0:.2f}%\".format(grid.cv_results_['mean_test_score'][7]*100)])\n",
    "    outPut.append(['1.0',\n",
    "                   \"{0:.2f}%\".format(grid.cv_results_['mean_test_score'][8]*100),\n",
    "                   \"{0:.2f}%\".format(grid.cv_results_['mean_test_score'][7]*100),\n",
    "                   \"{0:.2f}%\".format(grid.cv_results_['mean_test_score'][9]*100),\n",
    "                   \"{0:.2f}%\".format(grid.cv_results_['mean_test_score'][10]*100)])\n",
    "    outPut.append(['10.0',\n",
    "                   \"{0:.2f}%\".format(grid.cv_results_['mean_test_score'][11]*100),\n",
    "                   \"{0:.2f}%\".format(grid.cv_results_['mean_test_score'][12]*100),\n",
    "                   \"{0:.2f}%\".format(grid.cv_results_['mean_test_score'][13]*100),\n",
    "                   \"{0:.2f}%\".format(grid.cv_results_['mean_test_score'][14]*100)])\n",
    "    \n",
    "    #print table\n",
    "    print(\"SVM rbf\")\n",
    "    print(tabulate(outPut, headers=['Variable C','Ɣ=0.001','Ɣ=0.1','Ɣ=1.0','Ɣ=10.0']))\n",
    "    print(\"The best parameters are \", grid.best_params_,\" with a score of {0:.2f}%\".format(float(grid.best_score_)* 100))\n",
    "    \n",
    "    print(\"-> Done\\n\\n\")"
   ]
  },
  {
   "cell_type": "markdown",
   "metadata": {},
   "source": [
    "## Réseaux neuronaux"
   ]
  },
  {
   "cell_type": "code",
   "execution_count": null,
   "metadata": {},
   "outputs": [],
   "source": []
  },
  {
   "cell_type": "markdown",
   "metadata": {},
   "source": [
    "## Main"
   ]
  },
  {
   "cell_type": "code",
   "execution_count": 85,
   "metadata": {},
   "outputs": [
    {
     "name": "stdout",
     "output_type": "stream",
     "text": [
      "PREPARING DATASETS\n",
      "Reading Galaxies features:\n",
      "Progress |**************************************************| 100.0% Complete\n",
      "-> Done preparing the dataset\n",
      "\n",
      "SVM linear\n",
      "  Variable C  class_weight= {‘balanced’}\n",
      "------------  ----------------------------\n",
      "       0.001  78.84%\n",
      "       0.1    80.09%\n",
      "       1      80.00%\n",
      "      10      79.99%\n",
      "The best parameters are  {'C': 0.1, 'cache_size': 2048, 'class_weight': 'balanced', 'kernel': 'linear'}  with a score of 80.09%\n",
      "SVM rbf\n",
      "  Variable C  Ɣ=0.001    Ɣ=0.1    Ɣ=1.0    Ɣ=10.0\n",
      "------------  ---------  -------  -------  --------\n",
      "       0.001  51.89%     68.10%   51.89%   51.89%\n",
      "       0.1    73.39%     80.66%   80.40%   78.23%\n",
      "       1      79.90%     78.23%   82.70%   82.38%\n",
      "      10      79.35%     81.68%   83.66%   82.12%\n",
      "The best parameters are  {'C': 10.0, 'cache_size': 2048, 'class_weight': 'balanced', 'gamma': 0.1, 'kernel': 'rbf'}  with a score of 83.66%\n",
      "-> Done\n",
      "\n",
      "\n"
     ]
    }
   ],
   "source": [
    "#1.A Read Galaxy features (name of file, path, n_split, test size, random state)\n",
    "features = []\n",
    "answers = []\n",
    "prepareDataset()\n",
    "\n",
    "#dont run because it is time consuming\n",
    "svm()\n"
   ]
  },
  {
   "cell_type": "code",
   "execution_count": null,
   "metadata": {},
   "outputs": [],
   "source": [
    "output \n",
    "SVM linear\n",
    "  Variable C  class_weight= {‘balanced’}\n",
    "------------  ----------------------------\n",
    "       0.001  78.84%\n",
    "       0.1    80.09%\n",
    "       1      80.00%\n",
    "      10      79.99%\n",
    "The best parameters are  {'C': 0.1, 'cache_size': 2048, 'class_weight': 'balanced', 'kernel': 'linear'}  with a score of 80.09%\n",
    "SVM rbf\n",
    "  Variable C  Ɣ=0.001    Ɣ=0.1    Ɣ=1.0    Ɣ=10.0\n",
    "------------  ---------  -------  -------  --------\n",
    "       0.001  51.89%     68.10%   51.89%   51.89%\n",
    "       0.1    73.39%     80.66%   80.40%   78.23%\n",
    "       1      79.90%     78.23%   82.70%   82.38%\n",
    "      10      79.35%     81.68%   83.66%   82.12%\n",
    "The best parameters are  {'C': 10.0, 'cache_size': 2048, 'class_weight': 'balanced', 'gamma': 0.1, 'kernel': 'rbf'}  with a score of 83.66%\n",
    "-> Done"
   ]
  },
  {
   "cell_type": "markdown",
   "metadata": {},
   "source": [
    "## Introduction"
   ]
  },
  {
   "cell_type": "markdown",
   "metadata": {},
   "source": [
    "## Question 1 \n",
    "### Présentation de la méthode de validation"
   ]
  },
  {
   "cell_type": "markdown",
   "metadata": {},
   "source": [
    "## Question 2\n",
    "### Description du modèle élaboré"
   ]
  },
  {
   "cell_type": "markdown",
   "metadata": {},
   "source": [
    "## Question 3\n",
    "### Analyse de la phase d'entraînement"
   ]
  },
  {
   "cell_type": "markdown",
   "metadata": {},
   "source": [
    "## Question 4\n",
    "### Matrice des expérimentations"
   ]
  },
  {
   "cell_type": "markdown",
   "metadata": {},
   "source": [
    "### Étude des hyperparamètres des modèles"
   ]
  },
  {
   "cell_type": "markdown",
   "metadata": {},
   "source": [
    "## Question 5\n",
    "### Matrice des expérimentations"
   ]
  },
  {
   "cell_type": "markdown",
   "metadata": {},
   "source": [
    "### Études des hyperparamètres des modèles"
   ]
  },
  {
   "cell_type": "markdown",
   "metadata": {},
   "source": [
    "## Question 6\n",
    "### Discussion de l'impact de la taille des données"
   ]
  },
  {
   "cell_type": "markdown",
   "metadata": {},
   "source": [
    "## Question 7\n",
    "### Discussion de l'impact du bruit"
   ]
  },
  {
   "cell_type": "markdown",
   "metadata": {},
   "source": [
    "## Question 8\n",
    "### Formulation des recommandations"
   ]
  },
  {
   "cell_type": "markdown",
   "metadata": {},
   "source": [
    "## Question 9\n",
    "### Améliorations possibles"
   ]
  },
  {
   "cell_type": "markdown",
   "metadata": {},
   "source": [
    "## Conclusion"
   ]
  },
  {
   "cell_type": "markdown",
   "metadata": {},
   "source": [
    "## Bibliographie"
   ]
  }
 ],
 "metadata": {
  "kernelspec": {
   "display_name": "Python 3",
   "language": "python",
   "name": "python3"
  },
  "language_info": {
   "codemirror_mode": {
    "name": "ipython",
    "version": 3
   },
   "file_extension": ".py",
   "mimetype": "text/x-python",
   "name": "python",
   "nbconvert_exporter": "python",
   "pygments_lexer": "ipython3",
   "version": "3.6.7"
  }
 },
 "nbformat": 4,
 "nbformat_minor": 2
}
