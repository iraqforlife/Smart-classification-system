{
 "cells": [
  {
   "cell_type": "markdown",
   "metadata": {},
   "source": [
    "# Laboratoire 4 : Développement d'un système intelligent\n",
    "#### Département du génie logiciel et des technologies de l’information\n",
    "\n",
    "| Étudiants             |                                                         |\n",
    "|-----------------------|---------------------------------------------------------|\n",
    "| Jean-Philippe Decoste |  DECJ19059105                                           |\n",
    "| Ahmad Al-Taher        |   ALTA22109307                                          |\n",
    "| Stéphanie Lacerte     |   LACS06629109                                          |\n",
    "| Cours                 | GTI770 - Systèmes intelligents et apprentissage machine |\n",
    "| Session               | Automne 2018                                            |\n",
    "| Groupe                | 2                                                       |\n",
    "| Numéro du laboratoire | 04                                                      |\n",
    "| Professeur            | Hervé Lombaert                                          |\n",
    "| Chargé de laboratoire | Pierre-Luc Delisle                                      |\n",
    "| Date                  | 13 dev 2018                                             |"
   ]
  },
  {
   "cell_type": "code",
   "execution_count": 1,
   "metadata": {
    "scrolled": false
   },
   "outputs": [],
   "source": [
    "import csv\n",
    "import math\n",
    "import os\n",
    "\n",
    "import numpy as np\n",
    "from sklearn.model_selection import GridSearchCV\n",
    "from sklearn import decomposition\n",
    "import tensorflow as tf\n",
    "from tensorflow import keras\n",
    "from tabulate import tabulate\n",
    "import matplotlib.pyplot as plt\n",
    "\n",
    "from helpers import utilities as Utils\n",
    "from helpers import datasets as Data\n",
    "from algos import Knn"
   ]
  },
  {
   "cell_type": "markdown",
   "metadata": {},
   "source": [
    "## Paramètres"
   ]
  },
  {
   "cell_type": "code",
   "execution_count": 2,
   "metadata": {},
   "outputs": [],
   "source": [
    "#MERGED_GALAXY_PRIMITIVE = r\"data\\csv\\eq07_pMerged.csv\"\n",
    "TAGGED_PRIMITIVE = r\"music\\tagged_feature_sets\\msd-jmirmfccs_dev\\msd-jmirmfccs_dev.csv\"\n",
    "UNTAGGED_PRIMITIVE = r\"music\\untagged_feature_sets\\msd-jmirmfccs_test_nolabels\\msd-jmirmfccs_test_nolabels.csv\"\n",
    "TAGGED_PRIMITIVE2 = r\"music\\tagged_feature_sets\\msd-jmirderivatives_dev\\msd-jmirderivatives_dev.csv\"\n",
    "UNTAGGED_PRIMITIVE2 = r\"music\\untagged_feature_sets\\msd-jmirmfccs_test_nolabels\\msd-jmirmfccs_test_nolabels.csv\"\n",
    "\n",
    "\n",
    "\n",
    "allFeatures = []\n",
    "allAnswers = []\n",
    "\n",
    "features_train = []\n",
    "answers_train = []\n",
    "features_test = []\n",
    "answers_test = []"
   ]
  },
  {
   "cell_type": "code",
   "execution_count": null,
   "metadata": {},
   "outputs": [],
   "source": []
  },
  {
   "cell_type": "markdown",
   "metadata": {},
   "source": [
    "### Main"
   ]
  },
  {
   "cell_type": "code",
   "execution_count": null,
   "metadata": {
    "scrolled": false
   },
   "outputs": [
    {
     "name": "stdout",
     "output_type": "stream",
     "text": [
      "PREPARING DATASETS\n",
      "Reading Music features:\n",
      "Progress |**************************************************| 100.0% Complete\n",
      "-> Done\n",
      "\n",
      "14 features after transformation\n",
      "\n",
      "Splitting Dataset according to these params:\n",
      "Property        Value\n",
      "------------  -------\n",
      "n_splits         10\n",
      "test_size         0.2\n",
      "random_state      0\n",
      "-> Done\n",
      "\n",
      "\n",
      "features_train 1436440; answers_train 1436440; features_test 359110; answers_test 359110\n",
      "1.Training \n",
      "\n"
     ]
    }
   ],
   "source": [
    "\n",
    "allFeatures,allAnswers = Data.prepareTrainDataset(\"Music\", TAGGED_PRIMITIVE)\n",
    "\n",
    "#determine best dementions to use\n",
    "#pca\n",
    "transformed =  decomposition.PCA(n_components=0.95).fit_transform(allFeatures)\n",
    "#faster tests\n",
    "#transformed =  decomposition.PCA(n_components=5).fit_transform(allFeatures)\n",
    "print(\"%d features after transformation\\n\" % len(transformed[0]))\n",
    "#determine best classifier and best model\n",
    "features_train,answers_train,features_test,answers_test = Data.splitDataSet(transformed,allAnswers, 10, 0.2, 0)\n",
    "print(\"features_train %d; answers_train %d; features_test %d; answers_test %d\"%(len(features_train),len(answers_train),len(features_test),len(answers_test)))\n",
    "\n",
    "knn = Knn.knn(features_train,answers_train,False)\n",
    "\n",
    "#combine"
   ]
  },
  {
   "cell_type": "code",
   "execution_count": null,
   "metadata": {},
   "outputs": [],
   "source": []
  },
  {
   "cell_type": "code",
   "execution_count": null,
   "metadata": {},
   "outputs": [],
   "source": []
  },
  {
   "cell_type": "code",
   "execution_count": null,
   "metadata": {},
   "outputs": [],
   "source": []
  },
  {
   "cell_type": "markdown",
   "metadata": {},
   "source": [
    "## Introduction et revue de la littérature"
   ]
  },
  {
   "cell_type": "markdown",
   "metadata": {},
   "source": [
    "## Question 2\n",
    "### Configuration de l'environnement"
   ]
  },
  {
   "cell_type": "markdown",
   "metadata": {},
   "source": [
    "### Partitionnement des données"
   ]
  },
  {
   "cell_type": "markdown",
   "metadata": {},
   "source": [
    "### Validation"
   ]
  },
  {
   "cell_type": "markdown",
   "metadata": {},
   "source": [
    "### Prétraitement"
   ]
  },
  {
   "cell_type": "markdown",
   "metadata": {},
   "source": [
    "## Question 3\n",
    "### Description des modèles et justifications"
   ]
  },
  {
   "cell_type": "markdown",
   "metadata": {},
   "source": [
    "## Question 4\n",
    "### Matrice des expérimentations"
   ]
  },
  {
   "cell_type": "markdown",
   "metadata": {},
   "source": [
    "### Matrice des résultats de l'étude des hyperparamètres"
   ]
  },
  {
   "cell_type": "markdown",
   "metadata": {},
   "source": [
    "### Graphiques"
   ]
  },
  {
   "cell_type": "markdown",
   "metadata": {},
   "source": [
    "### Discussion"
   ]
  },
  {
   "cell_type": "markdown",
   "metadata": {},
   "source": [
    "## Question 5\n",
    "### Présentation de la conception"
   ]
  },
  {
   "cell_type": "markdown",
   "metadata": {},
   "source": [
    "## Question 6\n",
    "### Hyperparamètres des modèles choisis dans la conception"
   ]
  },
  {
   "cell_type": "markdown",
   "metadata": {},
   "source": [
    "### Matrice des résultats"
   ]
  },
  {
   "cell_type": "markdown",
   "metadata": {},
   "source": [
    "### Discussion"
   ]
  },
  {
   "cell_type": "markdown",
   "metadata": {},
   "source": [
    "## Question 7 \n",
    "### Formulation des recommandations"
   ]
  },
  {
   "cell_type": "markdown",
   "metadata": {},
   "source": [
    "## Conclusion"
   ]
  }
 ],
 "metadata": {
  "kernelspec": {
   "display_name": "Python 3",
   "language": "python",
   "name": "python3"
  },
  "language_info": {
   "codemirror_mode": {
    "name": "ipython",
    "version": 3
   },
   "file_extension": ".py",
   "mimetype": "text/x-python",
   "name": "python",
   "nbconvert_exporter": "python",
   "pygments_lexer": "ipython3",
   "version": "3.6.7"
  }
 },
 "nbformat": 4,
 "nbformat_minor": 2
}
