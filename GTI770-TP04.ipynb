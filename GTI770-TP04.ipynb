{
 "cells": [
  {
   "cell_type": "markdown",
   "metadata": {},
   "source": [
    "# Laboratoire 4 : Développement d'un système intelligent\n",
    "#### Département du génie logiciel et des technologies de l’information\n",
    "\n",
    "| Étudiants             |                                                         |\n",
    "|-----------------------|---------------------------------------------------------|\n",
    "| Jean-Philippe Decoste |  DECJ19059105                                           |\n",
    "| Ahmad Al-Taher        |   ALTA22109307                                          |\n",
    "| Stéphanie Lacerte     |   LACS06629109                                          |\n",
    "| Cours                 | GTI770 - Systèmes intelligents et apprentissage machine |\n",
    "| Session               | Automne 2018                                            |\n",
    "| Groupe                | 2                                                       |\n",
    "| Numéro du laboratoire | 04                                                      |\n",
    "| Professeur            | Hervé Lombaert                                          |\n",
    "| Chargé de laboratoire | Pierre-Luc Delisle                                      |\n",
    "| Date                  | 13 dev 2018                                             |"
   ]
  },
  {
   "cell_type": "code",
   "execution_count": 5,
   "metadata": {
    "scrolled": false
   },
   "outputs": [],
   "source": [
    "from algos import DecisionTree\n",
    "from algos import Knn\n",
    "from algos import Bayes\n",
    "from algos import NeuralNetwork\n",
    "from algos import SVM\n",
    "from helpers import datasets as Data\n",
    "from helpers import utilities as Utils\n",
    "import os\n",
    "os.environ['TF_CPP_MIN_LOG_LEVEL'] = '2'"
   ]
  },
  {
   "cell_type": "markdown",
   "metadata": {},
   "source": [
    "## Paramètres"
   ]
  },
  {
   "cell_type": "code",
   "execution_count": 2,
   "metadata": {},
   "outputs": [],
   "source": [
    "# Music CSV\n",
    "JMIRMFCC_CSV = r\"music\\tagged_feature_sets\\msd-jmirmfccs_dev\\msd-jmirmfccs_dev.csv\"\n",
    "MARSYAS_CSV = r\"music\\tagged_feature_sets\\msd-marsyas_dev_new\\msd-marsyas_dev_new.csv\"\n",
    "RYTHMHISTOGRAM_CSV = r\"music\\tagged_feature_sets\\msd-rh_dev_new\\msd-rh_dev_new.csv\"\n",
    "\n",
    "UNTAGGED_PRIMITIVE1 = r\"music\\untagged_feature_sets\\msd-jmirmfccs_test_nolabels\\msd-jmirmfccs_test_nolabels.csv\"\n",
    "UNTAGGED_PRIMITIVE2 = r\"music\\untagged_feature_sets\\msd-rh_test_nolabels\\msd-rh_test_nolabels.csv\"\n",
    "UNTAGGED_PRIMITIVE3 = r\"music\\untagged_feature_sets\\msd-trh_test_nolabels\\msd-trh_test_nolabels.csv\"\n",
    "\n",
    "allFeatures = []\n",
    "allAnswers = []\n",
    "\n",
    "features_train = []\n",
    "answers_train = []\n",
    "features_test = []\n",
    "answers_test = []\n",
    "\n",
    "BASELINE_CLASSIFIER = None"
   ]
  },
  {
   "cell_type": "markdown",
   "metadata": {},
   "source": [
    "# Préparation des fichiers de données"
   ]
  },
  {
   "cell_type": "code",
   "execution_count": 4,
   "metadata": {},
   "outputs": [
    {
     "name": "stdout",
     "output_type": "stream",
     "text": [
      "PREPARING DATASETS\n",
      "Reading Jmir MFCC features:\n",
      "Progress |**************************************************| 100.0% Complete\n",
      "Scaling data...\n",
      "Reducing dimension...\n",
      "Encoding labels...\n",
      "\n",
      "-> Done\n",
      "\n",
      "Splitting Dataset according to these params:\n",
      "Property        Value\n",
      "------------  -------\n",
      "n_splits          2\n",
      "test_size         0.8\n",
      "random_state      0\n",
      "-> Done\n",
      "\n",
      "\n",
      "Reading Marsyas features:\n",
      "Progress |**************************************************| 100.0% Complete\n",
      "Scaling data...\n",
      "Reducing dimension...\n",
      "Encoding labels...\n",
      "\n",
      "-> Done\n",
      "\n",
      "Splitting Dataset according to these params:\n",
      "Property        Value\n",
      "------------  -------\n",
      "n_splits          2\n",
      "test_size         0.8\n",
      "random_state      0\n",
      "-> Done\n",
      "\n",
      "\n",
      "Reading Rythm Histogram features:\n",
      "Progress |**************************************************| 100.0% Complete\n",
      "Scaling data...\n",
      "Reducing dimension...\n",
      "Encoding labels...\n",
      "\n",
      "-> Done\n",
      "\n",
      "Splitting Dataset according to these params:\n",
      "Property        Value\n",
      "------------  -------\n",
      "n_splits          2\n",
      "test_size         0.8\n",
      "random_state      0\n",
      "-> Done\n",
      "\n",
      "\n"
     ]
    }
   ],
   "source": [
    "#1.A Prepare datasets\n",
    "print(\"PREPARING DATASETS\")\n",
    "features1, answers1 = Data.prepareTrainDataset(\"Jmir MFCC\", JMIRMFCC_CSV, True)\n",
    "features1_train, answers1_train, features1_test, answers1_test = Data.splitDataSet(features1, answers1, 2, 0.8, 0)\n",
    "\n",
    "features2, answers2 = Data.prepareTrainDataset(\"Marsyas\", MARSYAS_CSV, True)\n",
    "features2_train, answers2_train, features2_test, answers2_test = Data.splitDataSet(features2, answers2, 2, 0.8, 0)\n",
    "\n",
    "features3, answers3 = Data.prepareTrainDataset(\"Rythm Histogram\", RYTHMHISTOGRAM_CSV, True)\n",
    "features3_train, answers3_train, features3_test, answers3_test = Data.splitDataSet(features3, answers3, 2, 0.8, 0)"
   ]
  },
  {
   "cell_type": "markdown",
   "metadata": {},
   "source": [
    "## Évaluation du classificateur de base\n",
    "\n",
    "Les cinq algorithmes vue pendant les laboratoires sont prêt à être testés. Simplement l'ajouter dans la liste et la transmettre à l'analyseur. \n",
    "- Arbre de décision : <i>decisionTree</i>\n",
    "- Plus proche voisin : <i>knn</i>\n",
    "- Bayes : <i>bayes</i>\n",
    "- Réseau de neurones : <i>neuralNetwork</i>\n",
    "- Machine à vecteur : <i>SVM</i>"
   ]
  },
  {
   "cell_type": "code",
   "execution_count": null,
   "metadata": {},
   "outputs": [
    {
     "name": "stdout",
     "output_type": "stream",
     "text": [
      "Train following algo to find baseLine: \n",
      "['decisionTree', 'knn', 'neuralNetwork', 'SVM']\n",
      "\n",
      "New Decision Tree Classifier\n",
      "1.Evaluation \n",
      "\n",
      "  Depth    Accuracy\n",
      "-------  ----------\n",
      "      5       14.42\n",
      "     10       15.64\n",
      "     15       13.31\n",
      "The best parameters are  {'max_depth': 10}  with a score of 15.64%\n",
      "\n",
      "-> Done\n",
      "\n",
      "\n",
      "\n",
      "New Decision Tree Classifier\n",
      "1.Training \n",
      "\n",
      "  Depth    Accuracy\n",
      "-------  ----------\n",
      "     10       26.06\n",
      "\n",
      "-> Done\n",
      "\n",
      "\n",
      "\n",
      "New Knn Classifier\n",
      "1.Evaluation \n",
      "\n"
     ]
    }
   ],
   "source": [
    "#2.A Find best algo for specified dataset\n",
    "algo_to_test = ['decisionTree', 'knn', 'neuralNetwork', 'SVM']\n",
    "best_data1 = Utils.findBaselineClassifier(algo_to_test, features1_train, answers1_train)\n",
    "best_data2 = Utils.findBaselineClassifier(algo_to_test, features2_train, answers2_train)\n",
    "best_data3 = Utils.findBaselineClassifier(algo_to_test, features3_train, answers3_train)\n",
    "#2.B Find best algo as Baseline Classifier\n",
    "BASELINE_CLASSIFIER = Utils.getBestModel([best_data1, best_data2, best_data3])\n",
    "print(\"The baseline Classifier is:\")\n",
    "print(BASELINE_CLASSIFIER.getDefinition())"
   ]
  },
  {
   "cell_type": "markdown",
   "metadata": {},
   "source": [
    "## Main"
   ]
  },
  {
   "cell_type": "code",
   "execution_count": null,
   "metadata": {
    "scrolled": false
   },
   "outputs": [
    {
     "name": "stdout",
     "output_type": "stream",
     "text": [
      "PREPARING DATASETS\n",
      "Reading Music features:\n",
      "Progress |**************************************************| 100.0% Complete\n",
      "-> Done\n",
      "\n",
      "PREPARING DATASETS\n",
      "Reading Music features:\n",
      "Progress |**************************************************| 100.0% Complete\r"
     ]
    }
   ],
   "source": [
    "\n",
    "#allFeatures,allAnswers, labelEncoder = Data.prepareTrainDataset(\"Music\", TAGGED_PRIMITIVE)\n",
    "#testF1, ids = Data.prepareTestDataset(\"Music\", UNTAGGED_PRIMITIVE1)\n",
    "#testF2, ids = Data.prepareTrainDataset(\"Music\", UNTAGGED_PRIMITIVE2)\n",
    "#testF3, ids = Data.prepareTrainDataset(\"Music\", UNTAGGED_PRIMITIVE3)\n",
    "#transform back the answers from numeric to label\n",
    "\"\"\"\"answers = []\n",
    "for index in range(0,len(ids)):\n",
    "    answers.append(random.randint(1,14))\n",
    "labels = labelEncoder.inverse_transform(answers)\n",
    "Data.outPut(ids,labels)\"\"\"\n",
    "#determine best dementions to use\n",
    "#faster tests\n",
    "#transformed =  decomposition.PCA(n_components=5).fit_transform(allFeatures)\n",
    "#determine best classifier and best model\n",
    "'''features_train,answers_train,features_test,answers_test = Data.splitDataSet(allFeatures,allAnswers, 10, 0.99, 0)\n",
    "testF,testA,dummy2,dummy1 = Data.splitDataSet(features_test,answers_test, 1, 0.99, 0)\n",
    "print(\"features_train %d; answers_train %d; features_test %d; answers_test %d\"%(len(features_train),len(answers_train),len(testF),len(testA)))\n",
    "\n",
    "model1 = KNeighborsClassifier(n_neighbors=3)\n",
    "model2 = KNeighborsClassifier(n_neighbors=5)\n",
    "model3 = KNeighborsClassifier(n_neighbors=7)\n",
    "#we train here\n",
    "model1.fit(features_train,answers_train)\n",
    "model2.fit(features_train,answers_train)\n",
    "model3.fit(features_train,answers_train)\n",
    "\n",
    "#combine\n",
    "predit1 = model1.predict(testF)\n",
    "predit2 = model2.predict(testF)\n",
    "predit3 = model3.predict(testF)\n",
    "\n",
    "#print(\"P1 %d; P2 %d; P3 %d\" %(predit1,predit2,predit3))\n",
    "predictedAnswers = []\n",
    "#\n",
    "for index in range(0,len(predit1)):\n",
    "    if predit1[index] == predit2[index] or predit1 [index]== predit3[index]:\n",
    "        predictedAnswers.append(predit1[index])\n",
    "    elif predit2[index] == predit3[index]:\n",
    "        predictedAnswers.append(predit2[index])\n",
    "    else:\n",
    "        #base on best score\n",
    "        predictedAnswers.append(predit3[index])\n",
    "    '''"
   ]
  },
  {
   "cell_type": "markdown",
   "metadata": {},
   "source": [
    "## Introduction et revue de la littérature"
   ]
  },
  {
   "cell_type": "markdown",
   "metadata": {},
   "source": [
    "## Question 2\n",
    "### Configuration de l'environnement"
   ]
  },
  {
   "cell_type": "markdown",
   "metadata": {},
   "source": [
    "### Partitionnement des données"
   ]
  },
  {
   "cell_type": "markdown",
   "metadata": {},
   "source": [
    "### Validation"
   ]
  },
  {
   "cell_type": "markdown",
   "metadata": {},
   "source": [
    "### Prétraitement"
   ]
  },
  {
   "cell_type": "markdown",
   "metadata": {},
   "source": [
    "## Question 3\n",
    "### Description des modèles et justifications"
   ]
  },
  {
   "cell_type": "markdown",
   "metadata": {},
   "source": [
    "## Question 4\n",
    "### Matrice des expérimentations"
   ]
  },
  {
   "cell_type": "markdown",
   "metadata": {},
   "source": [
    "### Matrice des résultats de l'étude des hyperparamètres"
   ]
  },
  {
   "cell_type": "markdown",
   "metadata": {},
   "source": [
    "### Graphiques"
   ]
  },
  {
   "cell_type": "markdown",
   "metadata": {},
   "source": [
    "### Discussion"
   ]
  },
  {
   "cell_type": "markdown",
   "metadata": {},
   "source": [
    "## Question 5\n",
    "### Présentation de la conception"
   ]
  },
  {
   "cell_type": "markdown",
   "metadata": {},
   "source": [
    "## Question 6\n",
    "### Hyperparamètres des modèles choisis dans la conception"
   ]
  },
  {
   "cell_type": "markdown",
   "metadata": {},
   "source": [
    "### Matrice des résultats"
   ]
  },
  {
   "cell_type": "markdown",
   "metadata": {},
   "source": [
    "### Discussion"
   ]
  },
  {
   "cell_type": "markdown",
   "metadata": {},
   "source": [
    "## Question 7 \n",
    "### Formulation des recommandations"
   ]
  },
  {
   "cell_type": "markdown",
   "metadata": {},
   "source": [
    "## Conclusion"
   ]
  }
 ],
 "metadata": {
  "kernelspec": {
   "display_name": "Python [default]",
   "language": "python",
   "name": "python3"
  },
  "language_info": {
   "codemirror_mode": {
    "name": "ipython",
    "version": 3
   },
   "file_extension": ".py",
   "mimetype": "text/x-python",
   "name": "python",
   "nbconvert_exporter": "python",
   "pygments_lexer": "ipython3",
   "version": "3.5.6"
  }
 },
 "nbformat": 4,
 "nbformat_minor": 2
}
