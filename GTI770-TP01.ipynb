{
 "cells": [
  {
   "cell_type": "markdown",
   "metadata": {},
   "source": [
    "# Laboratoire 1 : Extraction de primitives\n",
    "#### Département du génie logiciel et des technologies de l’information\n",
    "\n",
    "| Étudiants             | NOMS - CODE PERMANENT                                   |\n",
    "|-----------------------|---------------------------------------------------------|\n",
    "| Cours                 | GTI770 - Systèmes intelligents et apprentissage machine |\n",
    "| Session               | SAISON ANNÉE                                            |\n",
    "| Groupe                | X                                                       |\n",
    "| Numéro du laboratoire | X                                                       |\n",
    "| Professeur            | Prof. NOM                                               |\n",
    "| Chargé de laboratoire | NOM                                                     |\n",
    "| Date                  | DATE                                                    |"
   ]
  },
  {
   "cell_type": "code",
   "execution_count": 5,
   "metadata": {},
   "outputs": [],
   "source": [
    "import numpy as np\n",
    "import cv2\n",
    "from scipy.misc import imread, imshow,face\n",
    "import matplotlib.pyplot as plt\n"
   ]
  },
  {
   "cell_type": "code",
   "execution_count": 107,
   "metadata": {},
   "outputs": [],
   "source": [
    "import numpy\n",
    "import cv2\n",
    "from skimage import img_as_ubyte\n",
    "from skimage.color import rgb2gray\n",
    "from skimage.filters import threshold_otsu\n",
    "\n",
    "class Image:\n",
    "    def __init__(self, path,label, answer):\n",
    "        self._Path = path\n",
    "        self._Label = label\n",
    "        self._Answer = answer\n",
    "        self._Pixels = numpy.array(cv2.imread(path))\n",
    "        print(self._Pixels.shape)\n",
    "        self._Width = self._Pixels.shape[0]\n",
    "        self._Hight = self._Pixels.shape[1]\n",
    "        #useful image manipulations\n",
    "        self._GrayScale = rgb2gray(self._Pixels)\n",
    "        self._Threshold = threshold_otsu(self._GrayScale)\n",
    "        self._Binary = self._GrayScale > self._Threshold\n",
    "        self.crop(self._Width)\n",
    "\n",
    "    def crop(self, dimentions):\n",
    "        self._Cropped = dimentions != self._Width\n",
    "        # dimention is the width and hight to crop to. Since it is a square.\n",
    "        upper_width = int(self._Width/2 + dimentions/2)\n",
    "        lower_width = int(self._Width/2 - dimentions/2)\n",
    "        upper_height = int(self._Hight/2 + dimentions/2)\n",
    "        lower_height = int(self._Hight/2 - dimentions/2)\n",
    "        self._CroppedPixels = self._Pixels[ lower_width:upper_width,lower_height : upper_height]\n",
    "        self._CroppedGrayScale = rgb2gray(self._CroppedPixels)\n",
    "        self._CroppedThreshold = threshold_otsu(self._CroppedGrayScale)\n",
    "        self._CroppedBinary = self._CroppedGrayScale > self._CroppedThreshold\n",
    "    \n",
    "    def computeBlackWhite(self):\n",
    "        self._Black = 0\n",
    "        self._White = 0\n",
    "        self._BlackWhiteRatio = 0\n",
    "        self._CroppedBlack = 0\n",
    "        self._CroppedWhite = 0\n",
    "        self._CroppedBlackWhiteRatio = 0\n",
    "        \n",
    "        for row in self._Binary :\n",
    "            for pixel in row:\n",
    "                if(pixel):\n",
    "                    self._White += 1\n",
    "                else:\n",
    "                    self._Black += 1\n",
    "        #compute the B/W ratio\n",
    "        if self._Black > 0 and self._White >0 :\n",
    "            self._BlackWhiteRatio = self._Black / self._White\n",
    "        \n",
    "        if self._Cropped:\n",
    "            for row in self._CroppedBinary :\n",
    "                for pixel in row:\n",
    "                    if(pixel):\n",
    "                        self._CroppedWhite += 1\n",
    "                    else:\n",
    "                        self._CroppedBlack += 1\n",
    "            #compute the cropped B/W ratio\n",
    "            if self._CroppedBlack > 0 and self._CroppedWhite >0 :\n",
    "                self._CroppedBlackWhiteRatio = self._CroppedBlack / self._CroppedWhite\n",
    "        else:            \n",
    "            self._CroppedBlack = self._Black\n",
    "            self._CroppedWhite = self._White\n",
    "            self._CroppedBlackWhiteRatio = self._BlackWhiteRatio"
   ]
  },
  {
   "cell_type": "code",
   "execution_count": 110,
   "metadata": {
    "scrolled": false
   },
   "outputs": [
    {
     "name": "stdout",
     "output_type": "stream",
     "text": [
      "(424, 424, 3)\n",
      "0.025784313725490195\n",
      "grayscale fist value:  0.025784313725490195\n",
      "threshold:  0.18756156173406865\n",
      "binary first value:  False\n",
      "0.12412117647058825\n",
      "black  168944\n",
      "white  10832\n",
      "B/W ratio 15.596750369276219\n"
     ]
    },
    {
     "data": {
      "image/png": "[encoded data removed]",
      "text/plain": [
       "<Figure size 432x288 with 1 Axes>"
      ]
     },
     "metadata": {
      "needs_background": "light"
     },
     "output_type": "display_data"
    }
   ],
   "source": [
    "import numpy as np\n",
    "import cv2\n",
    "from scipy.misc import imread, imshow,face\n",
    "import matplotlib.pyplot as plt\n",
    "\n",
    "from skimage.filters import threshold_otsu\n",
    "\n",
    "#test\n",
    "img = Image(\"C:\\\\Users\\\\ThinkPad\\\\Downloads\\\\gti770\\\\data\\\\images\\\\100053.jpg\",\"100053\",\"smooth\")\n",
    "print(img._GrayScale[0][0])\n",
    "plt.imshow(img._Pixels)\n",
    "plt.title(\"original\")\n",
    "#plt.show()\n",
    "\n",
    "print(\"grayscale fist value: \",img._GrayScale[0][0])\n",
    "plt.imshow(img._GrayScale)\n",
    "plt.title(\"grayscale\")\n",
    "#plt.show()\n",
    "\n",
    "print(\"threshold: \",img._Threshold)\n",
    "binary = img._GrayScale > img._Threshold\n",
    "print(\"binary first value: \", binary[0][0])\n",
    "plt.imshow(binary)\n",
    "plt.title(\"binarized\")\n",
    "#plt.show()\n",
    "\n",
    "img.crop(100)\n",
    "\n",
    "plt.imshow(img._CroppedBinary)\n",
    "print(img._CroppedGrayScale[0][0])\n",
    "plt.title(\"binarized cropped\")\n",
    "#plt.show()\n",
    "\n",
    "img.computeBlackWhite()\n",
    "print(\"black \",img._Black)\n",
    "print(\"white \", img._White)\n",
    "print(\"B/W ratio\", img._BlackWhiteRatio)\n",
    "\n",
    "print(\"cropped black \",img._CroppedBlack)\n",
    "print(\"cropped white \", img._CroppedWhite)\n",
    "print(\"cropped B/W ratio\", img._CroppedBlackWhiteRatio)"
   ]
  },
  {
   "cell_type": "markdown",
   "metadata": {},
   "source": [
    "Introduction et revue de la littérature"
   ]
  },
  {
   "cell_type": "markdown",
   "metadata": {},
   "source": [
    "### Question 2"
   ]
  },
  {
   "cell_type": "markdown",
   "metadata": {},
   "source": [
    "### Question 3"
   ]
  },
  {
   "cell_type": "markdown",
   "metadata": {},
   "source": [
    "### Question 4"
   ]
  },
  {
   "cell_type": "markdown",
   "metadata": {},
   "source": [
    "### Question 5"
   ]
  },
  {
   "cell_type": "markdown",
   "metadata": {},
   "source": [
    "### Conclusion"
   ]
  },
  {
   "cell_type": "markdown",
   "metadata": {},
   "source": [
    "### Bibliographie"
   ]
  }
 ],
 "metadata": {
  "kernelspec": {
   "display_name": "Python 3",
   "language": "python",
   "name": "python3"
  },
  "language_info": {
   "codemirror_mode": {
    "name": "ipython",
    "version": 3
   },
   "file_extension": ".py",
   "mimetype": "text/x-python",
   "name": "python",
   "nbconvert_exporter": "python",
   "pygments_lexer": "ipython3",
   "version": "3.6.6"
  }
 },
 "nbformat": 4,
 "nbformat_minor": 2
}
