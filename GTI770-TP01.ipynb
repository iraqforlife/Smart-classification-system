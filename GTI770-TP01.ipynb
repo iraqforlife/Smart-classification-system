{
 "cells": [
  {
   "cell_type": "markdown",
   "metadata": {},
   "source": [
    "# Laboratoire 1 : Extraction de primitives\n",
    "#### Département du génie logiciel et des technologies de l’information\n",
    "\n",
    "| Étudiants             | ahmad al-taher - alta22109307                           |\n",
    "|-----------------------|---------------------------------------------------------|\n",
    "| Cours                 | GTI770 - Systèmes intelligents et apprentissage machine |\n",
    "| Session               | automn 2018                                             |\n",
    "| Groupe                | 2                                                       |\n",
    "| Numéro du laboratoire | 00                                                      |\n",
    "| Professeur            | Hervé Lombaert                                          |\n",
    "| Chargé de laboratoire | Pierre-Luc Delisle                                      |\n",
    "| Date                  | 20 sep 2018                                             |"
   ]
  },
  {
   "cell_type": "code",
   "execution_count": 2,
   "metadata": {},
   "outputs": [],
   "source": [
    "import numpy as np\n",
    "import cv2\n",
    "from scipy.misc import imread, imshow,face\n",
    "import matplotlib.pyplot as plt\n"
   ]
  },
  {
   "cell_type": "code",
   "execution_count": 3,
   "metadata": {},
   "outputs": [],
   "source": [
    "import numpy, math\n",
    "import cv2 as cv\n",
    "from skimage import img_as_ubyte\n",
    "from skimage.color import rgb2gray\n",
    "from skimage.filters import threshold_otsu\n",
    "\n",
    "class Image:\n",
    "    def __init__(self, path,label, answer):\n",
    "        \"\"\"\n",
    "             The only construct is to build an object type image that has all the elements required to make a decision weather it is\n",
    "             a smooth or spiral galaxy\n",
    "             \n",
    "             Args:\n",
    "                 self : refers to the class\n",
    "                 path : Where the image is stored\n",
    "                 label : The image name \n",
    "                 answer : The final answer (smooth or spiral). This is the answer from the data set. \n",
    "                          It is used to verify after making a decision. \n",
    "                          \n",
    "              Returns:\n",
    "                  An Image object with the image manipulations\n",
    "         \"\"\"\n",
    "        self.Path = path\n",
    "        self.Label = label\n",
    "        self.Answer = answer\n",
    "        self.Pixels = numpy.array(cv2.imread(path))\n",
    "        self.Width = self.Pixels.shape[0]\n",
    "        self.Hight = self.Pixels.shape[1]\n",
    "        #we will always use the cropped image\n",
    "        #default crop is 250\n",
    "        self.crop(250)\n",
    "        #useful image manipulations\n",
    "        self.manipulations()\n",
    "        #default computations\n",
    "        self.ComputeCircularity()\n",
    "        self.computeBlackWhite()\n",
    "        \n",
    "    def manipulations(self):\n",
    "        \"\"\"\n",
    "             This method is used to apply all the images manipulation on the image. Such as grayscale.\n",
    "             Cropped image is the default image used \n",
    "             \n",
    "             Args:\n",
    "                 self: refers to the class\n",
    "        \"\"\"\n",
    "        #remove noise by blurring with a Gaussian filter\n",
    "        self.CroppedPixels = cv.GaussianBlur(self.CroppedPixels,(3,3), 0)\n",
    "        #convert to grayscale\n",
    "        self.GrayScale = cv.cvtColor(self.CroppedPixels, cv.COLOR_BGR2GRAY)\n",
    "        \"\"\"remove background noise\n",
    "        #the result is worst with laplacian\n",
    "        #laplacian = cv.Laplacian(self._GrayScale, cv.CV_16S, 3)\n",
    "        #laplacian = cv.convertScaleAbs(laplacian)\n",
    "        #self._GrayScale = self._GrayScale - laplacian \n",
    "        \"\"\"\n",
    "        self.Threshold = threshold_otsu(self.GrayScale)\n",
    "        self.Binary = self.GrayScale > self.Threshold\n",
    "    \n",
    "    def crop(self, dimentions):\n",
    "        \"\"\"\n",
    "             This method is used to apply a crop to the image. Since the image is squared only on parameter is required \n",
    "             \n",
    "             Args:\n",
    "                 dimentions: refers the final demention of the image. Such as the final image would have\n",
    "                                 dimentions*dimentions. Ex: dimentions=250 the image will be 250x250\n",
    "        \"\"\"\n",
    "        # dimention is the width and hight to crop to. Since it is a square.\n",
    "        upper_width = int(self.Width/2 + dimentions/2)\n",
    "        lower_width = int(self.Width/2 - dimentions/2)\n",
    "        upper_height = int(self.Hight/2 + dimentions/2)\n",
    "        lower_height = int(self.Hight/2 - dimentions/2)\n",
    "        #new array of the image\n",
    "        self.CroppedPixels = self.Pixels[ lower_width:upper_width,lower_height : upper_height]\n",
    "        \n",
    "    def computeBlackWhite(self):\n",
    "        \"\"\"\n",
    "             This method is used to compute the black and white ratio.\n",
    "             The formula is blacks / whites\n",
    "             \n",
    "             Args:\n",
    "                 self: refers to the class\n",
    "        \"\"\"\n",
    "        self.Black = 0\n",
    "        self.White = 0\n",
    "        self.BlackWhiteRatio = 0\n",
    "        #compute the # of black and the # of whites\n",
    "        for row in self.Binary :\n",
    "            for pixel in row:\n",
    "                if(pixel):\n",
    "                    self.White += 1\n",
    "                else:\n",
    "                    self.Black += 1\n",
    "        #compute the B/W ratio\n",
    "        if self.Black > 0 and self.White >0 :\n",
    "            self.BlackWhiteRatio = self.Black / self.White\n",
    "        \n",
    "    def ComputeCircularity(self):\n",
    "        \"\"\"\n",
    "             This method is used to compute the circularity of the galaxy.\n",
    "             The formula used is : 𝐶 = 4 ∗ 𝜋 ∗ 𝐴/𝑃2\n",
    "             \n",
    "             Args:\n",
    "                 self: refers to the class\n",
    "         \"\"\"\n",
    "        #example from openCV documentation\n",
    "        ret,thresh = cv.threshold(self.GrayScale,self.Threshold, 255, 0)\n",
    "        img, contours, hierarchy = cv.findContours(thresh,1 ,2 )\n",
    "        cnt= contours[0]\n",
    "        \n",
    "        self.area = cv.contourArea(cnt)\n",
    "        self.perimeter = cv.arcLength(cnt,True)\n",
    "        #circularity\n",
    "        self.C = 0\n",
    "        if self.area >0 and self.perimeter > 0 :\n",
    "            self.C = 4* math.pi * self.area/ math.pow(self.perimeter,2)"
   ]
  },
  {
   "cell_type": "code",
   "execution_count": 60,
   "metadata": {},
   "outputs": [],
   "source": [
    "import matplotlib.pyplot as plt\n",
    "import math\n",
    "\n",
    "def loadAllImages(dataPath , imageFolderPath):\n",
    "    \"\"\"\n",
    "             This method is used to al the images from the data set.\n",
    "             \n",
    "             Args:\n",
    "                 dataPath: the dataset file path\n",
    "                 imageFolderPath: the image dataset folder path\n",
    "         \"\"\"\n",
    "    dataFile = open(dataPath, 'r') # option r veut dire read\n",
    "    #index is used to load a define number of images.\n",
    "    index = 0\n",
    "    for line in dataFile:\n",
    "        texts = line.split(\",\")\n",
    "        imageName = texts[0]\n",
    "        shape = str(texts[1])\n",
    "\n",
    "        imagePath = imageFolderPath +\"\\\\\"+str(imageName)+'.jpg'\n",
    "        if index < 50 and \"smooth\" in line:\n",
    "            index += 1\n",
    "            if index % 10 <= 7:\n",
    "                trainDataSet.append(Image(imagePath,imageName,shape))\n",
    "            else:\n",
    "                testDataSet.append(Image(imagePath,imageName,shape))\n",
    "        elif index >= 50 and index < 100 and \"spiral\" in line:\n",
    "            index += 1\n",
    "            if index % 10 <= 7:\n",
    "                trainDataSet.append(Image(imagePath,imageName,shape))\n",
    "            else:\n",
    "                testDataSet.append(Image(imagePath,imageName,shape))\n",
    "\n",
    "    dataFile.close()\n",
    "    \n",
    "def  traceGraph(feature1x, feature1y, feature1Name, feature2x, feature2y, feature2Name):\n",
    "    \"\"\"\n",
    "         This method is used to compute the circularity of the galaxy.\n",
    "         The formula used is : 𝐶 = 4 ∗ 𝜋 ∗ 𝐴/𝑃2\n",
    "\n",
    "         Args:\n",
    "             self: refers to the class\n",
    "     \"\"\"\n",
    "    #fig = plt.figure()\n",
    "    #ax1 = fig.add_subplot()\n",
    "    plt.grid(True)\n",
    "    plt.scatter(feature1x, feature1y, s=10, c='b', marker=\"s\", label=feature1Name)\n",
    "    plt.scatter(feature2x, feature2y, s=10, c='r', marker=\"o\", label=feature2Name)\n",
    "    plt.ylabel(feature1Name)\n",
    "    plt.xlabel(feature2Name)\n",
    "    plt.legend(loc='upper left');\n",
    "    plt.show()"
   ]
  },
  {
   "cell_type": "code",
   "execution_count": 62,
   "metadata": {
    "scrolled": true
   },
   "outputs": [
    {
     "name": "stdout",
     "output_type": "stream",
     "text": [
      "threshold:  56\n",
      "circularity:  0.8714646546573355\n",
      "black  55144\n",
      "white  7356\n",
      "B/W ratio 7.4964654703643285\n"
     ]
    },
    {
     "data": {
      "image/png": "[encoded data removed]",
      "text/plain": [
       "<Figure size 432x288 with 1 Axes>"
      ]
     },
     "metadata": {
      "needs_background": "light"
     },
     "output_type": "display_data"
    }
   ],
   "source": [
    "import numpy as np\n",
    "import cv2\n",
    "from scipy.misc import imread, imshow,face\n",
    "import matplotlib.pyplot as plt\n",
    "\n",
    "from skimage.filters import threshold_otsu\n",
    "\n",
    "#test\n",
    "img = Image(\"C:\\\\Users\\\\ThinkPad\\\\Downloads\\\\gti770\\\\data\\\\images\\\\231792.jpg\",\"232031\",\"smooth\")\n",
    "\n",
    "#plt.imshow(img.CroppedPixels)\n",
    "#plt.title(\"original\")\n",
    "#plt.show()\n",
    "\n",
    "#plt.imshow(img.GrayScale)\n",
    "#plt.title(\"grayscale\")\n",
    "#plt.show()\n",
    "\n",
    "print(\"threshold: \",img.Threshold)\n",
    "#plt.imshow(img.Binary)\n",
    "#plt.title(\"binarized\")\n",
    "#plt.show()\n",
    "\n",
    "print(\"circularity: \", img.C)\n",
    "\n",
    "print(\"black \",img.Black)\n",
    "print(\"white \", img.White)\n",
    "print(\"B/W ratio\", img.BlackWhiteRatio)\n",
    "#load\n",
    "#sepration 70%-30% of the data set\n",
    "trainDataSet = []\n",
    "testDataSet = []\n",
    "\n",
    "loadAllImages(\"C:\\\\Users\\\\ThinkPad\\\\Downloads\\\\gti770\\\\data\\\\csv\\\\galaxy\\\\galaxy_label_data_set.csv\",\"C:\\\\Users\\\\ThinkPad\\\\Downloads\\\\gti770\\\\data\\\\images\")\n",
    "\n",
    "feature1x = []\n",
    "feature1y = []\n",
    "feature2x = []\n",
    "feature2y = []\n",
    "for ig in trainDataSet:\n",
    "    if\"smooth\" in ig.Answer:\n",
    "        feature1x.append(ig.BlackWhiteRatio)\n",
    "        feature1y.append(ig.C)\n",
    "    else:\n",
    "        feature2x.append(ig.BlackWhiteRatio)\n",
    "        feature2y.append(ig.C)\n",
    "for ig in testDataSet:\n",
    "    if\"smooth\" in ig.Answer:\n",
    "        feature1x.append(ig.BlackWhiteRatio)\n",
    "        feature1y.append(ig.C)\n",
    "    else:\n",
    "        feature2x.append(ig.BlackWhiteRatio)\n",
    "        feature2y.append(ig.C)\n",
    "\n",
    "\n",
    "traceGraph(feature1x,feature1y,\"Black/White ratio\",feature2x,feature2y,\"Circularity\")"
   ]
  },
  {
   "cell_type": "markdown",
   "metadata": {},
   "source": [
    "Introduction et revue de la littérature"
   ]
  },
  {
   "cell_type": "markdown",
   "metadata": {},
   "source": [
    "### Question 2"
   ]
  },
  {
   "cell_type": "markdown",
   "metadata": {},
   "source": [
    "### Question 3"
   ]
  },
  {
   "cell_type": "markdown",
   "metadata": {},
   "source": [
    "### Question 4"
   ]
  },
  {
   "cell_type": "markdown",
   "metadata": {},
   "source": [
    "### Question 5"
   ]
  },
  {
   "cell_type": "markdown",
   "metadata": {},
   "source": [
    "### Conclusion"
   ]
  },
  {
   "cell_type": "markdown",
   "metadata": {},
   "source": [
    "### Bibliographie"
   ]
  },
  {
   "cell_type": "code",
   "execution_count": 214,
   "metadata": {},
   "outputs": [
    {
     "ename": "SyntaxError",
     "evalue": "invalid syntax (<ipython-input-214-1f74ff1184fd>, line 1)",
     "output_type": "error",
     "traceback": [
      "\u001b[1;36m  File \u001b[1;32m\"<ipython-input-214-1f74ff1184fd>\"\u001b[1;36m, line \u001b[1;32m1\u001b[0m\n\u001b[1;33m    https://docs.opencv.org/3.4.2/dd/d49/tutorial_py_contour_features.html\u001b[0m\n\u001b[1;37m           ^\u001b[0m\n\u001b[1;31mSyntaxError\u001b[0m\u001b[1;31m:\u001b[0m invalid syntax\n"
     ]
    }
   ],
   "source": [
    "https://docs.opencv.org/3.4.2/dd/d49/tutorial_py_contour_features.html"
   ]
  }
 ],
 "metadata": {
  "kernelspec": {
   "display_name": "Python 3",
   "language": "python",
   "name": "python3"
  }
 },
 "nbformat": 4,
 "nbformat_minor": 2
}
