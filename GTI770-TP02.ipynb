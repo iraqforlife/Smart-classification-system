{
 "cells": [
  {
   "cell_type": "markdown",
   "metadata": {},
   "source": [
    "# Laboratoire 2 : Arbre de désision, Bayes naïf et KNN\n",
    "#### Département du génie logiciel et des technologies de l’information\n",
    "\n",
    "| Étudiants             |                                                         |\n",
    "|-----------------------|---------------------------------------------------------|\n",
    "| Jean-Philippe Decoste |  DECJ19059105                                           |\n",
    "| Ahmad Al-Taher        |   ALTA22109307                                          |\n",
    "| Cours                 | GTI770 - Systèmes intelligents et apprentissage machine |\n",
    "| Session               | Automne 2018                                            |\n",
    "| Groupe                | 2                                                       |\n",
    "| Numéro du laboratoire | 02                                                      |\n",
    "| Professeur            | Hervé Lombaert                                          |\n",
    "| Chargé de laboratoire | Pierre-Luc Delisle                                      |\n",
    "| Date                  | 30 oct 2018                                             |"
   ]
  },
  {
   "cell_type": "code",
   "execution_count": 1,
   "metadata": {},
   "outputs": [],
   "source": [
    "import math\n",
    "\n",
    "import cv2 as cv\n",
    "import graphviz\n",
    "import matplotlib.pyplot as plt\n",
    "import numpy as np\n",
    "from scipy.misc import face, imread, imshow\n",
    "from skimage import img_as_ubyte\n",
    "from skimage.color import rgb2gray\n",
    "from skimage.filters import threshold_otsu\n",
    "from sklearn import preprocessing, tree\n",
    "from sklearn.datasets import load_iris\n",
    "from sklearn.neighbors import KNeighborsClassifier\n",
    "from sklearn.model_selection import StratifiedShuffleSplit, GridSearchCV\n",
    "from sklearn.preprocessing import MinMaxScaler\n",
    "from sklearn.naive_bayes import MultinomialNB"
   ]
  },
  {
   "cell_type": "code",
   "execution_count": 2,
   "metadata": {},
   "outputs": [],
   "source": [
    "class Email:    \n",
    "    def __init__(self, features):\n",
    "        self.features = features\n",
    "        self.answer = int(self.features[len(self.features)-1]) == 1\n",
    "        del self.features[-1]\n"
   ]
  },
  {
   "cell_type": "code",
   "execution_count": 3,
   "metadata": {},
   "outputs": [],
   "source": [
    "class Image:    \n",
    "    def __init__(self, features):\n",
    "        self.features = features\n",
    "        self.answer = self.features[len(self.features)-1] == 1\n",
    "        del self.features[-1]\n",
    "        self.id = int(self.features[0]) \n",
    "        del self.features[0]"
   ]
  },
  {
   "cell_type": "code",
   "execution_count": 46,
   "metadata": {},
   "outputs": [],
   "source": [
    "def loadEmailFeatures(emails, csvPath):\n",
    "    \"\"\"\n",
    "    This method is used to al the email features from the data set.\n",
    "    \n",
    "    Args:\n",
    "        csvPath: the dataset file path\n",
    "    \"\"\"\n",
    "    csvFile = open(csvPath, 'r') # option r veut dire read\n",
    "    #index is used to limit the numbero of data for test purposes\n",
    "    index = 0\n",
    "    for line in csvFile:\n",
    "        features = line.split(\",\")\n",
    "        if len(features) > 0:\n",
    "            emails.append(Email(features))\n",
    "        \n",
    "        index +=1\n",
    "        if index == 100:\n",
    "            break\n",
    "\n",
    "    csvFile.close()\n",
    "\n",
    "def loadImageFeatures(images, csvPath):\n",
    "    \"\"\"\n",
    "    This method is used to al the email features from the data set.\n",
    "    \n",
    "    Args:\n",
    "        csvPath: the dataset file path\n",
    "    \"\"\"\n",
    "    csvFile = open(csvPath, 'r') # option r veut dire read\n",
    "    #index is used to limit the numbero of data for test purposes\n",
    "    index = 0\n",
    "    for line in csvFile:\n",
    "        features = line.split(\",\")\n",
    "        if len(features) > 0:            \n",
    "            cleanCsvFeatures(features)\n",
    "            images.append(Image(features))\n",
    "        index +=1\n",
    "        if index == 100:\n",
    "            break\n",
    "\n",
    "    csvFile.close()\n",
    "\n",
    "def cleanCsvFeatures(features):\n",
    "    #clean up the features\n",
    "    #the csv files how the data as x.xxxxe+XX and we want tem as x.xxx\n",
    "    for i,val in enumerate(features):\n",
    "        features[i] = float(val)\n",
    "\n",
    "        \n",
    "def knnModel(dataset):\n",
    "    x=[]\n",
    "    y=[]\n",
    "    \n",
    "    for data in dataset:\n",
    "        x.append(data.features)\n",
    "        y.append(data.answer)\n",
    "    \n",
    "    x =np.array(x).astype(np.float64)\n",
    "    y =np.array(y).astype(np.float64)\n",
    "    \n",
    "    params = dict(n_neighbors=[3,5,10],weights=['uniform','distance'], algorithm=['auto'])\n",
    "    grid = GridSearchCV(KNeighborsClassifier(), param_grid=params, cv=5)\n",
    "    grid.fit(x, y)\n",
    "    #print raw \n",
    "    #print(grid.cv_results_)\n",
    "    #cv_results_['mean_test_score'] output is [uniform k=3,distance k=3,uniform k=10,distance k=10,uniform k=10,distance k=10]\n",
    "    for i in range(0, 6):\n",
    "        print(\"KNN %s has a score of %0.2f with k=%s \" %(grid.cv_results_['params'][i]['weights'],grid.cv_results_['mean_test_score'][i],grid.cv_results_['params'][i]['n_neighbors']))\n",
    "    #print(\"KNN 'distance' has a score of %0.2f with k=%s\" %(grid.cv_results_['mean_test_score'][1],k) )\n",
    "    \n",
    "    print(\"The best parameters are %s with a score of %0.2f\" % (grid.best_params_, grid.best_score_))\n",
    "\n",
    "def bayes(dataset):\n",
    "    x=[]\n",
    "    y=[]\n",
    "    \n",
    "    for data in dataset:\n",
    "        x.append(data.features)\n",
    "        y.append(data.answer)\n",
    "    \n",
    "    x =np.array(x).astype(np.float64)\n",
    "    y =np.array(y).astype(np.float64)\n",
    "    \n",
    "    scaler = MinMaxScaler()\n",
    "    scaler.fit(x)\n",
    "    xNormalized = scaler.transform(x) \n",
    "    \n",
    "    grid = GridSearchCV(MultinomialNB(), param_grid={}, cv=5)\n",
    "    grid.fit(xNormalized, y)\n",
    "    print(\"MultinomialNB with normalized values best score is %0.2f\" % ( grid.best_score_))\n",
    "    \n",
    "    est = preprocessing.KBinsDiscretizer(n_bins=3, encode='ordinal', strategy='uniform')\n",
    "    \n",
    "    est.fit(x)\n",
    "    xKBinsDiscretizer = est.transform(x)\n",
    "    \n",
    "    grid.fit(xKBinsDiscretizer, y)\n",
    "    \n",
    "    #print raw \n",
    "    #print(grid.cv_results_)\n",
    "    \n",
    "    print(\"MultinomialNB with discretized values best score is %0.2f\" % ( grid.best_score_))\n",
    "    "
   ]
  },
  {
   "cell_type": "code",
   "execution_count": 47,
   "metadata": {},
   "outputs": [
    {
     "name": "stdout",
     "output_type": "stream",
     "text": [
      "Working with the emails\n"
     ]
    },
    {
     "name": "stderr",
     "output_type": "stream",
     "text": [
      "C:\\ProgramData\\Anaconda3\\envs\\gti\\lib\\site-packages\\sklearn\\model_selection\\_search.py:841: DeprecationWarning: The default of the `iid` parameter will change from True to False in version 0.22 and will be removed in 0.24. This will change numeric results when test-set sizes are unequal.\n",
      "  DeprecationWarning)\n",
      "C:\\ProgramData\\Anaconda3\\envs\\gti\\lib\\site-packages\\sklearn\\model_selection\\_search.py:841: DeprecationWarning: The default of the `iid` parameter will change from True to False in version 0.22 and will be removed in 0.24. This will change numeric results when test-set sizes are unequal.\n",
      "  DeprecationWarning)\n"
     ]
    },
    {
     "name": "stdout",
     "output_type": "stream",
     "text": [
      "KNN uniform has a score of 0.68 with k=3 \n",
      "KNN distance has a score of 0.69 with k=3 \n",
      "KNN uniform has a score of 0.64 with k=5 \n",
      "KNN distance has a score of 0.65 with k=5 \n",
      "KNN uniform has a score of 0.69 with k=10 \n",
      "KNN distance has a score of 0.67 with k=10 \n",
      "The best parameters are {'algorithm': 'auto', 'n_neighbors': 3, 'weights': 'distance'} with a score of 0.69\n",
      "MultinomialNB with normalized values best score is 0.89\n",
      "MultinomialNB with discretized values best score is 0.77\n",
      "Working with the images\n",
      "KNN uniform has a score of 0.61 with k=3 \n",
      "KNN distance has a score of 0.59 with k=3 \n",
      "KNN uniform has a score of 0.62 with k=5 \n",
      "KNN distance has a score of 0.60 with k=5 \n",
      "KNN uniform has a score of 0.62 with k=10 \n",
      "KNN distance has a score of 0.63 with k=10 \n",
      "The best parameters are {'algorithm': 'auto', 'n_neighbors': 10, 'weights': 'distance'} with a score of 0.63\n",
      "MultinomialNB with normalized values best score is 0.71\n",
      "MultinomialNB with discretized values best score is 0.71\n"
     ]
    },
    {
     "name": "stderr",
     "output_type": "stream",
     "text": [
      "C:\\ProgramData\\Anaconda3\\envs\\gti\\lib\\site-packages\\sklearn\\model_selection\\_search.py:841: DeprecationWarning: The default of the `iid` parameter will change from True to False in version 0.22 and will be removed in 0.24. This will change numeric results when test-set sizes are unequal.\n",
      "  DeprecationWarning)\n",
      "C:\\ProgramData\\Anaconda3\\envs\\gti\\lib\\site-packages\\sklearn\\model_selection\\_search.py:841: DeprecationWarning: The default of the `iid` parameter will change from True to False in version 0.22 and will be removed in 0.24. This will change numeric results when test-set sizes are unequal.\n",
      "  DeprecationWarning)\n"
     ]
    }
   ],
   "source": [
    "Emails = []\n",
    "Images = []\n",
    "\n",
    "loadEmailFeatures(Emails, r\"C:\\Users\\ThinkPad\\Downloads\\gti770\\data\\csv\\spam\\spam.csv\")\n",
    "loadImageFeatures(Images, r\"C:\\Users\\ThinkPad\\Downloads\\gti770\\data\\csv\\galaxy\\galaxy_feature_vectors.csv\")\n",
    "#knn \n",
    "print(\"Working with the emails\")\n",
    "knnModel(Emails)\n",
    "bayes(Emails)\n",
    "print(\"Working with the images\")\n",
    "knnModel(Images)\n",
    "bayes(Images)\n"
   ]
  },
  {
   "cell_type": "markdown",
   "metadata": {},
   "source": [
    "## Introduction"
   ]
  },
  {
   "cell_type": "code",
   "execution_count": 45,
   "metadata": {},
   "outputs": [
    {
     "ename": "SyntaxError",
     "evalue": "invalid syntax (<ipython-input-45-30f04d5a1ceb>, line 1)",
     "output_type": "error",
     "traceback": [
      "\u001b[1;36m  File \u001b[1;32m\"<ipython-input-45-30f04d5a1ceb>\"\u001b[1;36m, line \u001b[1;32m1\u001b[0m\n\u001b[1;33m    *to delete\u001b[0m\n\u001b[1;37m             ^\u001b[0m\n\u001b[1;31mSyntaxError\u001b[0m\u001b[1;31m:\u001b[0m invalid syntax\n"
     ]
    }
   ],
   "source": [
    "*to delete\n",
    "résultat des algo sans rajouté de nos premitive\n",
    "KNN uniform has a score of 0.68 with k=3 \n",
    "KNN distance has a score of 0.69 with k=3 \n",
    "KNN uniform has a score of 0.64 with k=5 \n",
    "KNN distance has a score of 0.65 with k=5 \n",
    "KNN uniform has a score of 0.69 with k=10 \n",
    "KNN distance has a score of 0.67 with k=10 \n",
    "The best parameters are {'algorithm': 'auto', 'n_neighbors': 3, 'weights': 'distance'} with a score of 0.69\n",
    "MultinomialNB with normalized values best score is 0.89\n",
    "MultinomialNB with discretized values best score is 0.77\n",
    "Working with the images\n",
    "KNN uniform has a score of 0.61 with k=3 \n",
    "KNN distance has a score of 0.59 with k=3 \n",
    "KNN uniform has a score of 0.62 with k=5 \n",
    "KNN distance has a score of 0.60 with k=5 \n",
    "KNN uniform has a score of 0.62 with k=10 \n",
    "KNN distance has a score of 0.63 with k=10 \n",
    "The best parameters are {'algorithm': 'auto', 'n_neighbors': 10, 'weights': 'distance'} with a score of 0.63\n",
    "MultinomialNB with normalized values best score is 0.71\n",
    "MultinomialNB with discretized values best score is 0.71"
   ]
  },
  {
   "cell_type": "markdown",
   "metadata": {},
   "source": [
    "## Question 1\n",
    "### Méthode de création des ensembles de données"
   ]
  },
  {
   "cell_type": "markdown",
   "metadata": {},
   "source": [
    "## Question 1\n",
    "### Détails des ensembles produits"
   ]
  },
  {
   "cell_type": "markdown",
   "metadata": {},
   "source": [
    "## Question 2\n",
    "### Approche de validation proposée et justification"
   ]
  },
  {
   "cell_type": "markdown",
   "metadata": {},
   "source": [
    "## Question 3\n",
    "### Matrice des expérimentations"
   ]
  },
  {
   "cell_type": "markdown",
   "metadata": {},
   "source": [
    "## Question 3\n",
    "### Étude des hyperparamètres et des modèles"
   ]
  },
  {
   "cell_type": "markdown",
   "metadata": {},
   "source": [
    "## Question 4\n",
    "### Impact de la taille des ensembles de données sur la performance de classification"
   ]
  },
  {
   "cell_type": "markdown",
   "metadata": {},
   "source": [
    "## Question 5\n",
    "### Impact du bruit dans les ensembles de données sur la performance de classification"
   ]
  },
  {
   "cell_type": "markdown",
   "metadata": {},
   "source": [
    "## Question 6\n",
    "### Discussion sur la nature des données"
   ]
  },
  {
   "cell_type": "markdown",
   "metadata": {},
   "source": [
    "## Question 7\n",
    "### Recommandations"
   ]
  },
  {
   "cell_type": "markdown",
   "metadata": {},
   "source": [
    "## Question 8\n",
    "### Améliorations possibles"
   ]
  },
  {
   "cell_type": "markdown",
   "metadata": {},
   "source": [
    "## Conclusion"
   ]
  },
  {
   "cell_type": "markdown",
   "metadata": {},
   "source": [
    "## Bibliographie"
   ]
  }
 ],
 "metadata": {
  "kernelspec": {
   "display_name": "Python 3",
   "language": "python",
   "name": "python3"
  },
  "language_info": {
   "codemirror_mode": {
    "name": "ipython",
    "version": 3
   },
   "file_extension": ".py",
   "mimetype": "text/x-python",
   "name": "python",
   "nbconvert_exporter": "python",
   "pygments_lexer": "ipython3",
   "version": "3.6.6"
  }
 },
 "nbformat": 4,
 "nbformat_minor": 2
}
