{
 "cells": [
  {
   "cell_type": "markdown",
   "metadata": {},
   "source": [
    "# Laboratoire 2 : Arbre de désision, Bayes naïf et KNN\n",
    "#### Département du génie logiciel et des technologies de l’information\n",
    "\n",
    "| Étudiants             |                                                         |\n",
    "|-----------------------|---------------------------------------------------------|\n",
    "| Jean-Philippe Decoste |  DECJ19059105                                           |\n",
    "| Ahmad Al-Taher        |   ALTA22109307                                          |\n",
    "| Cours                 | GTI770 - Systèmes intelligents et apprentissage machine |\n",
    "| Session               | Automne 2018                                            |\n",
    "| Groupe                | 2                                                       |\n",
    "| Numéro du laboratoire | 02                                                      |\n",
    "| Professeur            | Hervé Lombaert                                          |\n",
    "| Chargé de laboratoire | Pierre-Luc Delisle                                      |\n",
    "| Date                  | 30 oct 2018                                             |"
   ]
  },
  {
   "cell_type": "code",
   "execution_count": 41,
   "metadata": {},
   "outputs": [],
   "source": [
    "import math\n",
    "\n",
    "import cv2 as cv\n",
    "import graphviz\n",
    "import matplotlib.pyplot as plt\n",
    "import numpy as np\n",
    "from scipy.misc import face, imread, imshow\n",
    "from skimage import img_as_ubyte\n",
    "from skimage.color import rgb2gray\n",
    "from skimage.filters import threshold_otsu\n",
    "from sklearn import preprocessing, tree\n",
    "from sklearn.datasets import load_iris"
   ]
  },
  {
   "cell_type": "code",
   "execution_count": 109,
   "metadata": {},
   "outputs": [],
   "source": [
    "class Email:    \n",
    "    def __init__(self, features):\n",
    "        self.features = features\n",
    "        self.spam = int(self.features[len(self.features)-1]) == 1\n",
    "        del self.features[-1]\n"
   ]
  },
  {
   "cell_type": "code",
   "execution_count": 110,
   "metadata": {},
   "outputs": [],
   "source": [
    "class Image:    \n",
    "    def __init__(self, features):\n",
    "        self.features = features\n",
    "        self.spiral = self.features[len(self.features)-1] == 1\n",
    "        del self.features[-1]\n",
    "        self.id = int(self.features[0]) \n",
    "        del self.features[0]"
   ]
  },
  {
   "cell_type": "code",
   "execution_count": 113,
   "metadata": {},
   "outputs": [],
   "source": [
    "def loadEmailFeatures(csvPath):\n",
    "    \"\"\"\n",
    "    This method is used to al the email features from the data set.\n",
    "    \n",
    "    Args:\n",
    "        csvPath: the dataset file path\n",
    "    \"\"\"\n",
    "    csvFile = open(csvPath, 'r') # option r veut dire read\n",
    "    #index is used to limit the numbero of data for test purposes\n",
    "    index = 0\n",
    "    for line in csvFile:\n",
    "        features = line.split(\",\")\n",
    "        if len(features) > 0:\n",
    "            Emails.append(Email(features))\n",
    "        \n",
    "        index +=1\n",
    "        if index == 100:\n",
    "            break\n",
    "\n",
    "    csvFile.close()\n",
    "\n",
    "def loadImageFeatures(csvPath):\n",
    "    \"\"\"\n",
    "    This method is used to al the email features from the data set.\n",
    "    \n",
    "    Args:\n",
    "        csvPath: the dataset file path\n",
    "    \"\"\"\n",
    "    csvFile = open(csvPath, 'r') # option r veut dire read\n",
    "    #index is used to limit the numbero of data for test purposes\n",
    "    index = 0\n",
    "    for line in csvFile:\n",
    "        features = line.split(\",\")\n",
    "        if len(features) > 0:            \n",
    "            cleanCsvFeatures(features)\n",
    "            Images.append(Image(features))\n",
    "        index +=1\n",
    "        if index == 100:\n",
    "            break\n",
    "\n",
    "    csvFile.close()\n",
    "\n",
    "def cleanCsvFeatures(features):\n",
    "    #clean up the features\n",
    "    #the csv files how the data as x.xxxxe+XX and we want tem as x.xxx\n",
    "    for i,val in enumerate(features):\n",
    "        features[i] = float(val)\n"
   ]
  },
  {
   "cell_type": "code",
   "execution_count": 116,
   "metadata": {},
   "outputs": [
    {
     "name": "stdout",
     "output_type": "stream",
     "text": [
      "['0', '0', '0', '0', '0', '0', '0', '0', '0', '0', '0', '0', '0', '0', '0', '0', '0', '0', '0.43', '0', '0.28', '0', '0', '0', '1.43', '1.15', '0.86', '0.28', '0.28', '0.28', '0.28', '0.28', '0.14', '0.28', '0.28', '0.28', '0.28', '0', '0.14', '0.28', '0', '0', '0.43', '0', '0.57', '0.28', '0', '0', '0.023', '0.324', '0.046', '0', '0', '0', '2.24', '12', '372']\n",
      "False\n",
      "[43.930924087036736, 51.01459655976993, 57.710347821368494, 10.04080181393207, 11.753778539411638, 12.423907531431968, 20.01964231316385, 20.145107092058197, 23.890885542842724, 18.698736310974507, 15.543446679530906, 17.429573092368198, 3.860164803435622, 3.685242829417392, 3.8499784988736665, 0.35608710094600127, 0.5968399839318662, 0.5457711835289252, 0.5062480342359442, 171.400450796202, 86.77114128273193, 2849625.0, 7.1205854415893555, 0.30214676507437943, 243.95547057235152, 0.0841936632253471, 3.403742192024813, 0.2241284442662666, 0.9342236609188999, 1.0, -0.26520337421586726, 0.9519712600246981, 1.159898581793148, 0.3147050654297465, 0.917173933388988, 1.0235222460688695, 0.21882561074248708, 0.24613368959657067, 0.2686791152083071, 0.9057091736506169, 0.910898956929118, 0.2500723507154444, 113.0, 168.0, 214.0, 60.54944071588367, 70.83149888143177, 82.59749440715883, 82.3313953488372, 102.16728329809725, 123.44978858350952, 2.4134667387777173, 1.4523418802977026, 0.19795864658157938, 0.012637945318082202, 0.00010695465813401294, 5.533061565573663e-06, -8.63223171596765e-11, -5.056811093799925e-07, -1.0327570716713458e-10, 0.0017411020310036573, 7.739027203332909e-07, 2.442553246990505e-11, 2.5993918956284658e-12, -5.489986051771894e-24, -1.0582102488501481e-15, -1.9971531185947225e-23, 0.0012680890578391972, 4.041156693356052e-07, 1.025419640935743e-11, 1.51100963329368e-12, 2.0687599144942297e-24, -2.6480534477301154e-16, 5.57636019598567e-24]\n",
      "True\n"
     ]
    }
   ],
   "source": [
    "Emails = []\n",
    "Images = []\n",
    "loadEmailFeatures(r\"C:\\Users\\ThinkPad\\Downloads\\gti770\\data\\csv\\spam\\spam.csv\")\n",
    "loadImageFeatures(r\"C:\\Users\\ThinkPad\\Downloads\\gti770\\data\\csv\\galaxy\\galaxy_feature_vectors.csv\")\n",
    "\n",
    "print(Emails[0].features)\n",
    "print(Emails[0].spam)\n",
    "print(Images[0].features)\n",
    "print(Images[0].spiral)"
   ]
  },
  {
   "cell_type": "markdown",
   "metadata": {},
   "source": [
    "## Introduction"
   ]
  },
  {
   "cell_type": "markdown",
   "metadata": {},
   "source": [
    "## Question 1\n",
    "### Méthode de création des ensembles de données"
   ]
  },
  {
   "cell_type": "markdown",
   "metadata": {},
   "source": [
    "## Question 1\n",
    "### Détails des ensembles produits"
   ]
  },
  {
   "cell_type": "markdown",
   "metadata": {},
   "source": [
    "## Question 2\n",
    "### Approche de validation proposée et justification"
   ]
  },
  {
   "cell_type": "markdown",
   "metadata": {},
   "source": [
    "## Question 3\n",
    "### Matrice des expérimentations"
   ]
  },
  {
   "cell_type": "markdown",
   "metadata": {},
   "source": [
    "## Question 3\n",
    "### Étude des hyperparamètres et des modèles"
   ]
  },
  {
   "cell_type": "markdown",
   "metadata": {},
   "source": [
    "## Question 4\n",
    "### Impact de la taille des ensembles de données sur la performance de classification"
   ]
  },
  {
   "cell_type": "markdown",
   "metadata": {},
   "source": [
    "## Question 5\n",
    "### Impact du bruit dans les ensembles de données sur la performance de classification"
   ]
  },
  {
   "cell_type": "markdown",
   "metadata": {},
   "source": [
    "## Question 6\n",
    "### Discussion sur la nature des données"
   ]
  },
  {
   "cell_type": "markdown",
   "metadata": {},
   "source": [
    "## Question 7\n",
    "### Recommandations"
   ]
  },
  {
   "cell_type": "markdown",
   "metadata": {},
   "source": [
    "## Question 8\n",
    "### Améliorations possibles"
   ]
  },
  {
   "cell_type": "markdown",
   "metadata": {},
   "source": [
    "## Conclusion"
   ]
  },
  {
   "cell_type": "markdown",
   "metadata": {},
   "source": [
    "## Bibliographie"
   ]
  }
 ],
 "metadata": {
  "kernelspec": {
   "display_name": "Python 3",
   "language": "python",
   "name": "python3"
  },
  "language_info": {
   "codemirror_mode": {
    "name": "ipython",
    "version": 3
   },
   "file_extension": ".py",
   "mimetype": "text/x-python",
   "name": "python",
   "nbconvert_exporter": "python",
   "pygments_lexer": "ipython3",
   "version": "3.6.6"
  }
 },
 "nbformat": 4,
 "nbformat_minor": 2
}
