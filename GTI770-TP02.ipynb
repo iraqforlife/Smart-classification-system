{
 "cells": [
  {
   "cell_type": "markdown",
   "metadata": {},
   "source": [
    "# Laboratoire 2 : Arbre de désision, Bayes naïf et KNN\n",
    "#### Département du génie logiciel et des technologies de l’information\n",
    "\n",
    "| Étudiants             |                                                         |\n",
    "|-----------------------|---------------------------------------------------------|\n",
    "| Jean-Philippe Decoste |  DECJ19059105                                           |\n",
    "| Ahmad Al-Taher        |   ALTA22109307                                          |\n",
    "| Cours                 | GTI770 - Systèmes intelligents et apprentissage machine |\n",
    "| Session               | Automne 2018                                            |\n",
    "| Groupe                | 2                                                       |\n",
    "| Numéro du laboratoire | 02                                                      |\n",
    "| Professeur            | Hervé Lombaert                                          |\n",
    "| Chargé de laboratoire | Pierre-Luc Delisle                                      |\n",
    "| Date                  | 30 oct 2018                                             |"
   ]
  },
  {
   "cell_type": "code",
   "execution_count": 35,
   "metadata": {},
   "outputs": [],
   "source": [
    "import math\n",
    "\n",
    "import cv2 as cv\n",
    "import graphviz\n",
    "import matplotlib.pyplot as plt\n",
    "import numpy as np\n",
    "from scipy.misc import face, imread, imshow\n",
    "from skimage import img_as_ubyte\n",
    "from skimage.color import rgb2gray\n",
    "from skimage.filters import threshold_otsu\n",
    "from sklearn import preprocessing, tree\n",
    "from sklearn.datasets import load_iris\n",
    "from sklearn.neighbors import KNeighborsClassifier\n",
    "from sklearn.model_selection import StratifiedShuffleSplit, GridSearchCV"
   ]
  },
  {
   "cell_type": "code",
   "execution_count": 6,
   "metadata": {},
   "outputs": [],
   "source": [
    "class Email:    \n",
    "    def __init__(self, features):\n",
    "        self.features = features\n",
    "        self.answer = int(self.features[len(self.features)-1]) == 1\n",
    "        del self.features[-1]\n"
   ]
  },
  {
   "cell_type": "code",
   "execution_count": 7,
   "metadata": {},
   "outputs": [],
   "source": [
    "class Image:    \n",
    "    def __init__(self, features):\n",
    "        self.features = features\n",
    "        self.answer = self.features[len(self.features)-1] == 1\n",
    "        del self.features[-1]\n",
    "        self.id = int(self.features[0]) \n",
    "        del self.features[0]"
   ]
  },
  {
   "cell_type": "code",
   "execution_count": 63,
   "metadata": {},
   "outputs": [],
   "source": [
    "def loadEmailFeatures(emails, csvPath):\n",
    "    \"\"\"\n",
    "    This method is used to al the email features from the data set.\n",
    "    \n",
    "    Args:\n",
    "        csvPath: the dataset file path\n",
    "    \"\"\"\n",
    "    csvFile = open(csvPath, 'r') # option r veut dire read\n",
    "    #index is used to limit the numbero of data for test purposes\n",
    "    index = 0\n",
    "    for line in csvFile:\n",
    "        features = line.split(\",\")\n",
    "        if len(features) > 0:\n",
    "            emails.append(Email(features))\n",
    "        \n",
    "        index +=1\n",
    "        if index == 100:\n",
    "            break\n",
    "\n",
    "    csvFile.close()\n",
    "\n",
    "def loadImageFeatures(images, csvPath):\n",
    "    \"\"\"\n",
    "    This method is used to al the email features from the data set.\n",
    "    \n",
    "    Args:\n",
    "        csvPath: the dataset file path\n",
    "    \"\"\"\n",
    "    csvFile = open(csvPath, 'r') # option r veut dire read\n",
    "    #index is used to limit the numbero of data for test purposes\n",
    "    index = 0\n",
    "    for line in csvFile:\n",
    "        features = line.split(\",\")\n",
    "        if len(features) > 0:            \n",
    "            cleanCsvFeatures(features)\n",
    "            images.append(Image(features))\n",
    "        index +=1\n",
    "        if index == 100:\n",
    "            break\n",
    "\n",
    "    csvFile.close()\n",
    "\n",
    "def cleanCsvFeatures(features):\n",
    "    #clean up the features\n",
    "    #the csv files how the data as x.xxxxe+XX and we want tem as x.xxx\n",
    "    for i,val in enumerate(features):\n",
    "        features[i] = float(val)\n",
    "\n",
    "        \n",
    "def knnModel(dataset, k):\n",
    "    x=[]\n",
    "    y=[]\n",
    "    \n",
    "    for data in dataset:\n",
    "        x.append(data.features)\n",
    "        y.append(data.answer)\n",
    "        \n",
    "    params = dict(n_neighbors=[k],weights=['uniform','distance'], algorithm=['auto'])\n",
    "    cv = StratifiedShuffleSplit(n_splits=5, test_size=0.2, random_state=42)\n",
    "    grid = GridSearchCV(KNeighborsClassifier(), param_grid=params, cv=cv)\n",
    "    \n",
    "    grid.fit(x, y)\n",
    "    \n",
    "    print(\"KNN 'uniform' has a score of %0.2f with k=%s\" %(grid.cv_results_['mean_test_score'][0],k) )\n",
    "    print(\"KNN 'distance' has a score of %0.2f with k=%s\" %(grid.cv_results_['mean_test_score'][1],k) )\n",
    "    \n",
    "    print(\"The best parameters are %s with a score of %0.2f\" % (grid.best_params_, grid.best_score_))\n",
    "    "
   ]
  },
  {
   "cell_type": "code",
   "execution_count": 64,
   "metadata": {},
   "outputs": [
    {
     "name": "stdout",
     "output_type": "stream",
     "text": [
      "KNN 'uniform' has a score of 0.69 with k=10\n",
      "KNN 'distance' has a score of 0.66 with k=10\n",
      "The best parameters are {'algorithm': 'auto', 'n_neighbors': 10, 'weights': 'uniform'} with a score of 0.69\n",
      "KNN 'uniform' has a score of 0.56 with k=3\n",
      "KNN 'distance' has a score of 0.59 with k=3\n",
      "The best parameters are {'algorithm': 'auto', 'n_neighbors': 3, 'weights': 'distance'} with a score of 0.59\n"
     ]
    }
   ],
   "source": [
    "Emails = []\n",
    "Images = []\n",
    "\n",
    "loadEmailFeatures(Emails, r\"C:\\Users\\ThinkPad\\Downloads\\gti770\\data\\csv\\spam\\spam.csv\")\n",
    "loadImageFeatures(Images, r\"C:\\Users\\ThinkPad\\Downloads\\gti770\\data\\csv\\galaxy\\galaxy_feature_vectors.csv\")\n",
    "\n",
    "knnModel(Emails,10)\n",
    "knnModel(Images,3)"
   ]
  },
  {
   "cell_type": "markdown",
   "metadata": {},
   "source": [
    "## Introduction"
   ]
  },
  {
   "cell_type": "markdown",
   "metadata": {},
   "source": [
    "## Question 1\n",
    "### Méthode de création des ensembles de données"
   ]
  },
  {
   "cell_type": "markdown",
   "metadata": {},
   "source": [
    "## Question 1\n",
    "### Détails des ensembles produits"
   ]
  },
  {
   "cell_type": "markdown",
   "metadata": {},
   "source": [
    "## Question 2\n",
    "### Approche de validation proposée et justification"
   ]
  },
  {
   "cell_type": "markdown",
   "metadata": {},
   "source": [
    "## Question 3\n",
    "### Matrice des expérimentations"
   ]
  },
  {
   "cell_type": "markdown",
   "metadata": {},
   "source": [
    "## Question 3\n",
    "### Étude des hyperparamètres et des modèles"
   ]
  },
  {
   "cell_type": "markdown",
   "metadata": {},
   "source": [
    "## Question 4\n",
    "### Impact de la taille des ensembles de données sur la performance de classification"
   ]
  },
  {
   "cell_type": "markdown",
   "metadata": {},
   "source": [
    "## Question 5\n",
    "### Impact du bruit dans les ensembles de données sur la performance de classification"
   ]
  },
  {
   "cell_type": "markdown",
   "metadata": {},
   "source": [
    "## Question 6\n",
    "### Discussion sur la nature des données"
   ]
  },
  {
   "cell_type": "markdown",
   "metadata": {},
   "source": [
    "## Question 7\n",
    "### Recommandations"
   ]
  },
  {
   "cell_type": "markdown",
   "metadata": {},
   "source": [
    "## Question 8\n",
    "### Améliorations possibles"
   ]
  },
  {
   "cell_type": "markdown",
   "metadata": {},
   "source": [
    "## Conclusion"
   ]
  },
  {
   "cell_type": "markdown",
   "metadata": {},
   "source": [
    "## Bibliographie"
   ]
  }
 ],
 "metadata": {
  "kernelspec": {
   "display_name": "Python 3",
   "language": "python",
   "name": "python3"
  },
  "language_info": {
   "codemirror_mode": {
    "name": "ipython",
    "version": 3
   },
   "file_extension": ".py",
   "mimetype": "text/x-python",
   "name": "python",
   "nbconvert_exporter": "python",
   "pygments_lexer": "ipython3",
   "version": "3.6.6"
  }
 },
 "nbformat": 4,
 "nbformat_minor": 2
}
