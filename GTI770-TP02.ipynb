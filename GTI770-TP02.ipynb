{
 "cells": [
  {
   "cell_type": "markdown",
   "metadata": {},
   "source": [
    "# Laboratoire 2 : Arbre de désision, Bayes naïf et KNN\n",
    "#### Département du génie logiciel et des technologies de l’information\n",
    "\n",
    "| Étudiants             |                                                         |\n",
    "|-----------------------|---------------------------------------------------------|\n",
    "| Jean-Philippe Decoste |  DECJ19059105                                           |\n",
    "| Ahmad Al-Taher        |   ALTA22109307                                          |\n",
    "| Cours                 | GTI770 - Systèmes intelligents et apprentissage machine |\n",
    "| Session               | Automne 2018                                            |\n",
    "| Groupe                | 2                                                       |\n",
    "| Numéro du laboratoire | 02                                                      |\n",
    "| Professeur            | Hervé Lombaert                                          |\n",
    "| Chargé de laboratoire | Pierre-Luc Delisle                                      |\n",
    "| Date                  | 30 oct 2018                                             |"
   ]
  },
  {
   "cell_type": "code",
   "execution_count": 1,
   "metadata": {},
   "outputs": [],
   "source": [
    "import math\n",
    "\n",
    "import cv2 as cv\n",
    "import graphviz\n",
    "import matplotlib.pyplot as plt\n",
    "import numpy as np\n",
    "from scipy.misc import face, imread, imshow\n",
    "from skimage import img_as_ubyte\n",
    "from skimage.color import rgb2gray\n",
    "from skimage.filters import threshold_otsu\n",
    "from sklearn import preprocessing, tree\n",
    "from sklearn.datasets import load_iris\n",
    "from sklearn.neighbors import KNeighborsClassifier\n",
    "from sklearn.model_selection import StratifiedShuffleSplit, GridSearchCV\n",
    "from sklearn.preprocessing import MinMaxScaler\n",
    "from sklearn.naive_bayes import MultinomialNB"
   ]
  },
  {
   "cell_type": "code",
   "execution_count": 2,
   "metadata": {},
   "outputs": [],
   "source": [
    "class Email:    \n",
    "    def __init__(self, features):\n",
    "        self.features = features\n",
    "        self.answer = int(self.features[len(self.features)-1]) == 1\n",
    "        del self.features[-1]\n"
   ]
  },
  {
   "cell_type": "code",
   "execution_count": 3,
   "metadata": {},
   "outputs": [],
   "source": [
    "class Image:    \n",
    "    def __init__(self, features):\n",
    "        self.features = features\n",
    "        self.answer = self.features[len(self.features)-1] == 1\n",
    "        del self.features[-1]\n",
    "        self.id = int(self.features[0]) \n",
    "        del self.features[0]"
   ]
  },
  {
   "cell_type": "code",
   "execution_count": 16,
   "metadata": {},
   "outputs": [],
   "source": [
    "def loadEmailFeatures(emails, csvPath):\n",
    "    \"\"\"\n",
    "    This method is used to al the email features from the data set.\n",
    "    \n",
    "    Args:\n",
    "        csvPath: the dataset file path\n",
    "    \"\"\"\n",
    "    csvFile = open(csvPath, 'r') # option r veut dire read\n",
    "    #index is used to limit the numbero of data for test purposes\n",
    "    index = 0\n",
    "    for line in csvFile:\n",
    "        features = line.split(\",\")\n",
    "        if len(features) > 0:\n",
    "            emails.append(Email(features))\n",
    "        \n",
    "        index +=1\n",
    "        if index == 100:\n",
    "            break\n",
    "\n",
    "    csvFile.close()\n",
    "\n",
    "def loadImageFeatures(images, csvPath):\n",
    "    \"\"\"\n",
    "    This method is used to al the email features from the data set.\n",
    "    \n",
    "    Args:\n",
    "        csvPath: the dataset file path\n",
    "    \"\"\"\n",
    "    csvFile = open(csvPath, 'r') # option r veut dire read\n",
    "    #index is used to limit the numbero of data for test purposes\n",
    "    index = 0\n",
    "    for line in csvFile:\n",
    "        features = line.split(\",\")\n",
    "        if len(features) > 0:            \n",
    "            cleanCsvFeatures(features)\n",
    "            images.append(Image(features))\n",
    "        index +=1\n",
    "        if index == 100:\n",
    "            break\n",
    "\n",
    "    csvFile.close()\n",
    "\n",
    "def cleanCsvFeatures(features):\n",
    "    #clean up the features\n",
    "    #the csv files how the data as x.xxxxe+XX and we want tem as x.xxx\n",
    "    for i,val in enumerate(features):\n",
    "        features[i] = float(val)\n",
    "\n",
    "        \n",
    "def knnModel(dataset):\n",
    "    x=[]\n",
    "    y=[]\n",
    "    \n",
    "    for data in dataset:\n",
    "        x.append(data.features)\n",
    "        y.append(data.answer)\n",
    "    \n",
    "    x =np.array(x).astype(np.float64)\n",
    "    y =np.array(y).astype(np.float64)\n",
    "    \n",
    "    params = dict(n_neighbors=[3,5,10],weights=['uniform','distance'], algorithm=['auto'])\n",
    "    grid = GridSearchCV(KNeighborsClassifier(), param_grid=params, cv=5, iid=True,scoring={'accuracy','precision','f1'}, refit='accuracy')\n",
    "    grid.fit(x, y)\n",
    "    #print raw \n",
    "    #print(grid.cv_results_)\n",
    "    #cv_results_['mean_test_score'] output is [uniform k=3,distance k=3,uniform k=10,distance k=10,uniform k=10,distance k=10]\n",
    "    for i in range(0, 6):\n",
    "        print(\"KNN %s with k=%s: score: %0.2f , precision: %0.2f , f1:%0.2f \" %(grid.cv_results_['params'][i]['weights'],grid.cv_results_['params'][i]['n_neighbors'],grid.cv_results_['mean_test_accuracy'][i],grid.cv_results_['mean_test_precision'][i],grid.cv_results_['mean_test_f1'][i]))\n",
    "    #print(\"KNN 'distance' has a score of %0.2f with k=%s\" %(grid.cv_results_['mean_test_score'][1],k) )\n",
    "    \n",
    "    print(\"The best parameters are %s with a score of %0.2f\" % (grid.best_params_, grid.best_score_))\n",
    "\n",
    "def bayes(dataset):\n",
    "    x=[]\n",
    "    y=[]\n",
    "    \n",
    "    for data in dataset:\n",
    "        x.append(data.features)\n",
    "        y.append(data.answer)\n",
    "    \n",
    "    x =np.array(x).astype(np.float64)\n",
    "    y =np.array(y).astype(np.float64)\n",
    "    \n",
    "    scaler = MinMaxScaler()\n",
    "    scaler.fit(x)\n",
    "    xNormalized = scaler.transform(x) \n",
    "    \n",
    "    grid = GridSearchCV(MultinomialNB(), param_grid={}, cv=5, iid=True,scoring={'accuracy','precision','f1'}, refit='accuracy')\n",
    "    grid.fit(xNormalized, y)\n",
    "    \n",
    "    #print raw \n",
    "    #print(grid.cv_results_)\n",
    "    \n",
    "    print(\"MultinomialNB with normalized values best score is %0.2f. Precision: %0.2f , f1: %0.2f\" % ( grid.best_score_,grid.cv_results_['mean_test_precision'][0],grid.cv_results_['mean_test_f1'][0]))\n",
    "    \n",
    "    est = preprocessing.KBinsDiscretizer(n_bins=3, encode='ordinal', strategy='uniform')\n",
    "    \n",
    "    est.fit(x)\n",
    "    xKBinsDiscretizer = est.transform(x)\n",
    "    \n",
    "    grid.fit(xKBinsDiscretizer, y)\n",
    "    \n",
    "    #print raw \n",
    "    #print(grid.cv_results_)\n",
    "    \n",
    "    print(\"MultinomialNB with discretized values best score is %0.2f. Precision: %0.2f , f1: %0.2f\" % ( grid.best_score_,grid.cv_results_['mean_test_precision'][0],grid.cv_results_['mean_test_f1'][0]))\n",
    "    "
   ]
  },
  {
   "cell_type": "code",
   "execution_count": 17,
   "metadata": {},
   "outputs": [
    {
     "name": "stdout",
     "output_type": "stream",
     "text": [
      "Working with the emails\n"
     ]
    },
    {
     "name": "stderr",
     "output_type": "stream",
     "text": [
      "C:\\ProgramData\\Anaconda3\\envs\\gti\\lib\\site-packages\\sklearn\\metrics\\classification.py:1143: UndefinedMetricWarning: Precision is ill-defined and being set to 0.0 due to no predicted samples.\n",
      "  'precision', 'predicted', average, warn_for)\n",
      "C:\\ProgramData\\Anaconda3\\envs\\gti\\lib\\site-packages\\sklearn\\metrics\\classification.py:1143: UndefinedMetricWarning: F-score is ill-defined and being set to 0.0 due to no predicted samples.\n",
      "  'precision', 'predicted', average, warn_for)\n",
      "C:\\ProgramData\\Anaconda3\\envs\\gti\\lib\\site-packages\\sklearn\\metrics\\classification.py:1143: UndefinedMetricWarning: Precision is ill-defined and being set to 0.0 due to no predicted samples.\n",
      "  'precision', 'predicted', average, warn_for)\n",
      "C:\\ProgramData\\Anaconda3\\envs\\gti\\lib\\site-packages\\sklearn\\metrics\\classification.py:1143: UndefinedMetricWarning: F-score is ill-defined and being set to 0.0 due to no predicted samples.\n",
      "  'precision', 'predicted', average, warn_for)\n",
      "C:\\ProgramData\\Anaconda3\\envs\\gti\\lib\\site-packages\\sklearn\\metrics\\classification.py:1143: UndefinedMetricWarning: Precision is ill-defined and being set to 0.0 due to no predicted samples.\n",
      "  'precision', 'predicted', average, warn_for)\n",
      "C:\\ProgramData\\Anaconda3\\envs\\gti\\lib\\site-packages\\sklearn\\metrics\\classification.py:1143: UndefinedMetricWarning: F-score is ill-defined and being set to 0.0 due to no predicted samples.\n",
      "  'precision', 'predicted', average, warn_for)\n"
     ]
    },
    {
     "name": "stdout",
     "output_type": "stream",
     "text": [
      "KNN uniform with k=3: score: 0.68 , precision: 0.41 , f1:0.29 \n",
      "KNN distance with k=3: score: 0.69 , precision: 0.41 , f1:0.35 \n",
      "KNN uniform with k=5: score: 0.64 , precision: 0.34 , f1:0.22 \n",
      "KNN distance with k=5: score: 0.65 , precision: 0.38 , f1:0.21 \n",
      "KNN uniform with k=10: score: 0.69 , precision: 0.06 , f1:0.05 \n",
      "KNN distance with k=10: score: 0.67 , precision: 0.21 , f1:0.17 \n",
      "The best parameters are {'algorithm': 'auto', 'n_neighbors': 3, 'weights': 'distance'} with a score of 0.69\n",
      "{'mean_fit_time': array([0.002]), 'std_fit_time': array([0.001]), 'mean_score_time': array([0.00600019]), 'std_score_time': array([0.00122464]), 'params': [{}], 'split0_test_precision': array([0.71428571]), 'split1_test_precision': array([1.]), 'split2_test_precision': array([1.]), 'split3_test_precision': array([1.]), 'split4_test_precision': array([1.]), 'mean_test_precision': array([0.94]), 'std_test_precision': array([0.11637378]), 'rank_test_precision': array([1]), 'split0_train_precision': array([1.]), 'split1_train_precision': array([1.]), 'split2_train_precision': array([1.]), 'split3_train_precision': array([1.]), 'split4_train_precision': array([1.]), 'mean_train_precision': array([1.]), 'std_train_precision': array([0.]), 'split0_test_f1': array([0.76923077]), 'split1_test_f1': array([0.28571429]), 'split2_test_f1': array([0.90909091]), 'split3_test_f1': array([0.75]), 'split4_test_f1': array([1.]), 'mean_test_f1': array([0.73585664]), 'std_test_f1': array([0.24916354]), 'rank_test_f1': array([1]), 'split0_train_f1': array([0.9]), 'split1_train_f1': array([0.9]), 'split2_train_f1': array([0.74285714]), 'split3_train_f1': array([0.78947368]), 'split4_train_f1': array([0.82051282]), 'mean_train_f1': array([0.83056873]), 'std_train_f1': array([0.06184602]), 'split0_test_accuracy': array([0.85714286]), 'split1_test_accuracy': array([0.76190476]), 'split2_test_accuracy': array([0.95]), 'split3_test_accuracy': array([0.89473684]), 'split4_test_accuracy': array([1.]), 'mean_test_accuracy': array([0.89]), 'std_test_accuracy': array([0.0818275]), 'rank_test_accuracy': array([1]), 'split0_train_accuracy': array([0.94936709]), 'split1_train_accuracy': array([0.94936709]), 'split2_train_accuracy': array([0.8875]), 'split3_train_accuracy': array([0.90123457]), 'split4_train_accuracy': array([0.91358025]), 'mean_train_accuracy': array([0.9202098]), 'std_train_accuracy': array([0.02519618])}\n",
      "MultinomialNB with normalized values best score is 0.89. Precision: 0.94 , f1: 0.74\n",
      "MultinomialNB with discretized values best score is 0.77. Precision: 0.65 , f1: 0.61\n",
      "Working with the images\n"
     ]
    }
   ],
   "source": [
    "Emails = []\n",
    "Images = []\n",
    "\n",
    "loadEmailFeatures(Emails, r\"C:\\Users\\ThinkPad\\Downloads\\gti770\\data\\csv\\spam\\spam.csv\")\n",
    "loadImageFeatures(Images, r\"C:\\Users\\ThinkPad\\Downloads\\gti770\\data\\csv\\galaxy\\galaxy_feature_vectors.csv\")\n",
    "#knn \n",
    "print(\"Working with the emails\")\n",
    "knnModel(Emails)\n",
    "bayes(Emails)\n",
    "\n",
    "print(\"Working with the images\")\n",
    "#knnModel(Images)\n",
    "#bayes(Images)\n"
   ]
  },
  {
   "cell_type": "markdown",
   "metadata": {},
   "source": [
    "## Introduction"
   ]
  },
  {
   "cell_type": "code",
   "execution_count": 45,
   "metadata": {},
   "outputs": [
    {
     "ename": "SyntaxError",
     "evalue": "invalid syntax (<ipython-input-45-30f04d5a1ceb>, line 1)",
     "output_type": "error",
     "traceback": [
      "\u001b[1;36m  File \u001b[1;32m\"<ipython-input-45-30f04d5a1ceb>\"\u001b[1;36m, line \u001b[1;32m1\u001b[0m\n\u001b[1;33m    *to delete\u001b[0m\n\u001b[1;37m             ^\u001b[0m\n\u001b[1;31mSyntaxError\u001b[0m\u001b[1;31m:\u001b[0m invalid syntax\n"
     ]
    }
   ],
   "source": [
    "*to delete\n",
    "résultat des algo sans rajouté de nos premitive\n",
    "KNN uniform has a score of 0.68 with k=3 \n",
    "KNN distance has a score of 0.69 with k=3 \n",
    "KNN uniform has a score of 0.64 with k=5 \n",
    "KNN distance has a score of 0.65 with k=5 \n",
    "KNN uniform has a score of 0.69 with k=10 \n",
    "KNN distance has a score of 0.67 with k=10 \n",
    "The best parameters are {'algorithm': 'auto', 'n_neighbors': 3, 'weights': 'distance'} with a score of 0.69\n",
    "MultinomialNB with normalized values best score is 0.89\n",
    "MultinomialNB with discretized values best score is 0.77\n",
    "Working with the images\n",
    "KNN uniform has a score of 0.61 with k=3 \n",
    "KNN distance has a score of 0.59 with k=3 \n",
    "KNN uniform has a score of 0.62 with k=5 \n",
    "KNN distance has a score of 0.60 with k=5 \n",
    "KNN uniform has a score of 0.62 with k=10 \n",
    "KNN distance has a score of 0.63 with k=10 \n",
    "The best parameters are {'algorithm': 'auto', 'n_neighbors': 10, 'weights': 'distance'} with a score of 0.63\n",
    "MultinomialNB with normalized values best score is 0.71\n",
    "MultinomialNB with discretized values best score is 0.71"
   ]
  },
  {
   "cell_type": "markdown",
   "metadata": {},
   "source": [
    "## Question 1\n",
    "### Méthode de création des ensembles de données"
   ]
  },
  {
   "cell_type": "markdown",
   "metadata": {},
   "source": [
    "## Question 1\n",
    "### Détails des ensembles produits"
   ]
  },
  {
   "cell_type": "markdown",
   "metadata": {},
   "source": [
    "## Question 2\n",
    "### Approche de validation proposée et justification"
   ]
  },
  {
   "cell_type": "markdown",
   "metadata": {},
   "source": [
    "## Question 3\n",
    "### Matrice des expérimentations"
   ]
  },
  {
   "cell_type": "markdown",
   "metadata": {},
   "source": [
    "## Question 3\n",
    "### Étude des hyperparamètres et des modèles"
   ]
  },
  {
   "cell_type": "markdown",
   "metadata": {},
   "source": [
    "## Question 4\n",
    "### Impact de la taille des ensembles de données sur la performance de classification"
   ]
  },
  {
   "cell_type": "markdown",
   "metadata": {},
   "source": [
    "## Question 5\n",
    "### Impact du bruit dans les ensembles de données sur la performance de classification"
   ]
  },
  {
   "cell_type": "markdown",
   "metadata": {},
   "source": [
    "## Question 6\n",
    "### Discussion sur la nature des données"
   ]
  },
  {
   "cell_type": "markdown",
   "metadata": {},
   "source": [
    "## Question 7\n",
    "### Recommandations"
   ]
  },
  {
   "cell_type": "markdown",
   "metadata": {},
   "source": [
    "## Question 8\n",
    "### Améliorations possibles"
   ]
  },
  {
   "cell_type": "markdown",
   "metadata": {},
   "source": [
    "## Conclusion"
   ]
  },
  {
   "cell_type": "markdown",
   "metadata": {},
   "source": [
    "## Bibliographie"
   ]
  }
 ],
 "metadata": {
  "kernelspec": {
   "display_name": "Python 3",
   "language": "python",
   "name": "python3"
  },
  "language_info": {
   "codemirror_mode": {
    "name": "ipython",
    "version": 3
   },
   "file_extension": ".py",
   "mimetype": "text/x-python",
   "name": "python",
   "nbconvert_exporter": "python",
   "pygments_lexer": "ipython3",
   "version": "3.6.6"
  }
 },
 "nbformat": 4,
 "nbformat_minor": 2
}
